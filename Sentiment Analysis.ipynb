{
  "nbformat": 4,
  "nbformat_minor": 0,
  "metadata": {
    "colab": {
      "name": "Navaduri Sai Amrutha-ML-Major Project.ipynb",
      "provenance": []
    },
    "kernelspec": {
      "name": "python3",
      "display_name": "Python 3"
    },
    "language_info": {
      "name": "python"
    }
  },
  "cells": [
    {
      "cell_type": "code",
      "execution_count": 1,
      "metadata": {
        "id": "gxarVj3rWoW8"
      },
      "outputs": [],
      "source": [
        "# Importing the required libraries\n",
        "import pandas as pd\n",
        "import seaborn as sns\n",
        "import matplotlib.pyplot as plt"
      ]
    },
    {
      "cell_type": "code",
      "source": [
        "# Importing the dataset\n",
        "dataset = pd.read_table('/content/Restaurant_Reviews.tsv')\n",
        "dataset\n",
        "# Here 1 is positive review\n",
        "# Here 0 is negative review"
      ],
      "metadata": {
        "colab": {
          "base_uri": "https://localhost:8080/",
          "height": 423
        },
        "id": "Yl-TiWPhW55R",
        "outputId": "6213992d-692c-4a9c-ae35-9c9cf5019d53"
      },
      "execution_count": 2,
      "outputs": [
        {
          "output_type": "execute_result",
          "data": {
            "text/html": [
              "\n",
              "  <div id=\"df-a67fba3f-a184-43ad-918c-8dcdc27076bc\">\n",
              "    <div class=\"colab-df-container\">\n",
              "      <div>\n",
              "<style scoped>\n",
              "    .dataframe tbody tr th:only-of-type {\n",
              "        vertical-align: middle;\n",
              "    }\n",
              "\n",
              "    .dataframe tbody tr th {\n",
              "        vertical-align: top;\n",
              "    }\n",
              "\n",
              "    .dataframe thead th {\n",
              "        text-align: right;\n",
              "    }\n",
              "</style>\n",
              "<table border=\"1\" class=\"dataframe\">\n",
              "  <thead>\n",
              "    <tr style=\"text-align: right;\">\n",
              "      <th></th>\n",
              "      <th>Review</th>\n",
              "      <th>Liked</th>\n",
              "    </tr>\n",
              "  </thead>\n",
              "  <tbody>\n",
              "    <tr>\n",
              "      <th>0</th>\n",
              "      <td>Wow... Loved this place.</td>\n",
              "      <td>1</td>\n",
              "    </tr>\n",
              "    <tr>\n",
              "      <th>1</th>\n",
              "      <td>Crust is not good.</td>\n",
              "      <td>0</td>\n",
              "    </tr>\n",
              "    <tr>\n",
              "      <th>2</th>\n",
              "      <td>Not tasty and the texture was just nasty.</td>\n",
              "      <td>0</td>\n",
              "    </tr>\n",
              "    <tr>\n",
              "      <th>3</th>\n",
              "      <td>Stopped by during the late May bank holiday of...</td>\n",
              "      <td>1</td>\n",
              "    </tr>\n",
              "    <tr>\n",
              "      <th>4</th>\n",
              "      <td>The selection on the menu was great and so wer...</td>\n",
              "      <td>1</td>\n",
              "    </tr>\n",
              "    <tr>\n",
              "      <th>...</th>\n",
              "      <td>...</td>\n",
              "      <td>...</td>\n",
              "    </tr>\n",
              "    <tr>\n",
              "      <th>995</th>\n",
              "      <td>I think food should have flavor and texture an...</td>\n",
              "      <td>0</td>\n",
              "    </tr>\n",
              "    <tr>\n",
              "      <th>996</th>\n",
              "      <td>Appetite instantly gone.</td>\n",
              "      <td>0</td>\n",
              "    </tr>\n",
              "    <tr>\n",
              "      <th>997</th>\n",
              "      <td>Overall I was not impressed and would not go b...</td>\n",
              "      <td>0</td>\n",
              "    </tr>\n",
              "    <tr>\n",
              "      <th>998</th>\n",
              "      <td>The whole experience was underwhelming, and I ...</td>\n",
              "      <td>0</td>\n",
              "    </tr>\n",
              "    <tr>\n",
              "      <th>999</th>\n",
              "      <td>Then, as if I hadn't wasted enough of my life ...</td>\n",
              "      <td>0</td>\n",
              "    </tr>\n",
              "  </tbody>\n",
              "</table>\n",
              "<p>1000 rows × 2 columns</p>\n",
              "</div>\n",
              "      <button class=\"colab-df-convert\" onclick=\"convertToInteractive('df-a67fba3f-a184-43ad-918c-8dcdc27076bc')\"\n",
              "              title=\"Convert this dataframe to an interactive table.\"\n",
              "              style=\"display:none;\">\n",
              "        \n",
              "  <svg xmlns=\"http://www.w3.org/2000/svg\" height=\"24px\"viewBox=\"0 0 24 24\"\n",
              "       width=\"24px\">\n",
              "    <path d=\"M0 0h24v24H0V0z\" fill=\"none\"/>\n",
              "    <path d=\"M18.56 5.44l.94 2.06.94-2.06 2.06-.94-2.06-.94-.94-2.06-.94 2.06-2.06.94zm-11 1L8.5 8.5l.94-2.06 2.06-.94-2.06-.94L8.5 2.5l-.94 2.06-2.06.94zm10 10l.94 2.06.94-2.06 2.06-.94-2.06-.94-.94-2.06-.94 2.06-2.06.94z\"/><path d=\"M17.41 7.96l-1.37-1.37c-.4-.4-.92-.59-1.43-.59-.52 0-1.04.2-1.43.59L10.3 9.45l-7.72 7.72c-.78.78-.78 2.05 0 2.83L4 21.41c.39.39.9.59 1.41.59.51 0 1.02-.2 1.41-.59l7.78-7.78 2.81-2.81c.8-.78.8-2.07 0-2.86zM5.41 20L4 18.59l7.72-7.72 1.47 1.35L5.41 20z\"/>\n",
              "  </svg>\n",
              "      </button>\n",
              "      \n",
              "  <style>\n",
              "    .colab-df-container {\n",
              "      display:flex;\n",
              "      flex-wrap:wrap;\n",
              "      gap: 12px;\n",
              "    }\n",
              "\n",
              "    .colab-df-convert {\n",
              "      background-color: #E8F0FE;\n",
              "      border: none;\n",
              "      border-radius: 50%;\n",
              "      cursor: pointer;\n",
              "      display: none;\n",
              "      fill: #1967D2;\n",
              "      height: 32px;\n",
              "      padding: 0 0 0 0;\n",
              "      width: 32px;\n",
              "    }\n",
              "\n",
              "    .colab-df-convert:hover {\n",
              "      background-color: #E2EBFA;\n",
              "      box-shadow: 0px 1px 2px rgba(60, 64, 67, 0.3), 0px 1px 3px 1px rgba(60, 64, 67, 0.15);\n",
              "      fill: #174EA6;\n",
              "    }\n",
              "\n",
              "    [theme=dark] .colab-df-convert {\n",
              "      background-color: #3B4455;\n",
              "      fill: #D2E3FC;\n",
              "    }\n",
              "\n",
              "    [theme=dark] .colab-df-convert:hover {\n",
              "      background-color: #434B5C;\n",
              "      box-shadow: 0px 1px 3px 1px rgba(0, 0, 0, 0.15);\n",
              "      filter: drop-shadow(0px 1px 2px rgba(0, 0, 0, 0.3));\n",
              "      fill: #FFFFFF;\n",
              "    }\n",
              "  </style>\n",
              "\n",
              "      <script>\n",
              "        const buttonEl =\n",
              "          document.querySelector('#df-a67fba3f-a184-43ad-918c-8dcdc27076bc button.colab-df-convert');\n",
              "        buttonEl.style.display =\n",
              "          google.colab.kernel.accessAllowed ? 'block' : 'none';\n",
              "\n",
              "        async function convertToInteractive(key) {\n",
              "          const element = document.querySelector('#df-a67fba3f-a184-43ad-918c-8dcdc27076bc');\n",
              "          const dataTable =\n",
              "            await google.colab.kernel.invokeFunction('convertToInteractive',\n",
              "                                                     [key], {});\n",
              "          if (!dataTable) return;\n",
              "\n",
              "          const docLinkHtml = 'Like what you see? Visit the ' +\n",
              "            '<a target=\"_blank\" href=https://colab.research.google.com/notebooks/data_table.ipynb>data table notebook</a>'\n",
              "            + ' to learn more about interactive tables.';\n",
              "          element.innerHTML = '';\n",
              "          dataTable['output_type'] = 'display_data';\n",
              "          await google.colab.output.renderOutput(dataTable, element);\n",
              "          const docLink = document.createElement('div');\n",
              "          docLink.innerHTML = docLinkHtml;\n",
              "          element.appendChild(docLink);\n",
              "        }\n",
              "      </script>\n",
              "    </div>\n",
              "  </div>\n",
              "  "
            ],
            "text/plain": [
              "                                                Review  Liked\n",
              "0                             Wow... Loved this place.      1\n",
              "1                                   Crust is not good.      0\n",
              "2            Not tasty and the texture was just nasty.      0\n",
              "3    Stopped by during the late May bank holiday of...      1\n",
              "4    The selection on the menu was great and so wer...      1\n",
              "..                                                 ...    ...\n",
              "995  I think food should have flavor and texture an...      0\n",
              "996                           Appetite instantly gone.      0\n",
              "997  Overall I was not impressed and would not go b...      0\n",
              "998  The whole experience was underwhelming, and I ...      0\n",
              "999  Then, as if I hadn't wasted enough of my life ...      0\n",
              "\n",
              "[1000 rows x 2 columns]"
            ]
          },
          "metadata": {},
          "execution_count": 2
        }
      ]
    },
    {
      "cell_type": "code",
      "source": [
        "# This provides summary of our dataframe.\n",
        "dataset.info()"
      ],
      "metadata": {
        "colab": {
          "base_uri": "https://localhost:8080/"
        },
        "id": "DdZOkwmyW7hL",
        "outputId": "5cb78702-388c-4b43-81ec-2295f02873f3"
      },
      "execution_count": 3,
      "outputs": [
        {
          "output_type": "stream",
          "name": "stdout",
          "text": [
            "<class 'pandas.core.frame.DataFrame'>\n",
            "RangeIndex: 1000 entries, 0 to 999\n",
            "Data columns (total 2 columns):\n",
            " #   Column  Non-Null Count  Dtype \n",
            "---  ------  --------------  ----- \n",
            " 0   Review  1000 non-null   object\n",
            " 1   Liked   1000 non-null   int64 \n",
            "dtypes: int64(1), object(1)\n",
            "memory usage: 15.8+ KB\n"
          ]
        }
      ]
    },
    {
      "cell_type": "code",
      "source": [
        "# This returns the rows and columns as the values of dimensions in the form of tuple.\n",
        "dataset.shape"
      ],
      "metadata": {
        "colab": {
          "base_uri": "https://localhost:8080/"
        },
        "id": "GX3YgEroW9nS",
        "outputId": "8204b792-a8f3-430f-80b8-19d5edfc3c93"
      },
      "execution_count": 4,
      "outputs": [
        {
          "output_type": "execute_result",
          "data": {
            "text/plain": [
              "(1000, 2)"
            ]
          },
          "metadata": {},
          "execution_count": 4
        }
      ]
    },
    {
      "cell_type": "code",
      "source": [
        "dataset.isnull().sum()   # To check if there are any empty cells"
      ],
      "metadata": {
        "colab": {
          "base_uri": "https://localhost:8080/"
        },
        "id": "eOaVNQWqW_ax",
        "outputId": "4a7400b1-fb8e-4f2b-cb07-a813be6dc491"
      },
      "execution_count": 5,
      "outputs": [
        {
          "output_type": "execute_result",
          "data": {
            "text/plain": [
              "Review    0\n",
              "Liked     0\n",
              "dtype: int64"
            ]
          },
          "metadata": {},
          "execution_count": 5
        }
      ]
    },
    {
      "cell_type": "code",
      "source": [
        "dataset['Liked'].value_counts()    # Returns the count of positive and negative reviews"
      ],
      "metadata": {
        "colab": {
          "base_uri": "https://localhost:8080/"
        },
        "id": "Byq_nGXTXA5G",
        "outputId": "8b30f74a-e0b8-4483-8b66-7e8c573e4904"
      },
      "execution_count": 6,
      "outputs": [
        {
          "output_type": "execute_result",
          "data": {
            "text/plain": [
              "1    500\n",
              "0    500\n",
              "Name: Liked, dtype: int64"
            ]
          },
          "metadata": {},
          "execution_count": 6
        }
      ]
    },
    {
      "cell_type": "code",
      "source": [
        "x = dataset['Review'].values\n",
        "y = dataset['Liked'].values"
      ],
      "metadata": {
        "id": "rmbFNntuXDH_"
      },
      "execution_count": 7,
      "outputs": []
    },
    {
      "cell_type": "code",
      "source": [
        "x"
      ],
      "metadata": {
        "colab": {
          "base_uri": "https://localhost:8080/"
        },
        "id": "Ef84RtiJXE_j",
        "outputId": "3071324b-9e6f-4df4-dd6f-8d7ce31399c8"
      },
      "execution_count": 8,
      "outputs": [
        {
          "output_type": "execute_result",
          "data": {
            "text/plain": [
              "array(['Wow... Loved this place.', 'Crust is not good.',\n",
              "       'Not tasty and the texture was just nasty.',\n",
              "       'Stopped by during the late May bank holiday off Rick Steve recommendation and loved it.',\n",
              "       'The selection on the menu was great and so were the prices.',\n",
              "       'Now I am getting angry and I want my damn pho.',\n",
              "       \"Honeslty it didn't taste THAT fresh.)\",\n",
              "       'The potatoes were like rubber and you could tell they had been made up ahead of time being kept under a warmer.',\n",
              "       'The fries were great too.', 'A great touch.',\n",
              "       'Service was very prompt.', 'Would not go back.',\n",
              "       'The cashier had no care what so ever on what I had to say it still ended up being wayyy overpriced.',\n",
              "       'I tried the Cape Cod ravoli, chicken, with cranberry...mmmm!',\n",
              "       'I was disgusted because I was pretty sure that was human hair.',\n",
              "       'I was shocked because no signs indicate cash only.',\n",
              "       'Highly recommended.', 'Waitress was a little slow in service.',\n",
              "       'This place is not worth your time, let alone Vegas.',\n",
              "       'did not like at all.', 'The Burrittos Blah!',\n",
              "       'The food, amazing.', 'Service is also cute.',\n",
              "       'I could care less... The interior is just beautiful.',\n",
              "       'So they performed.',\n",
              "       \"That's right....the red velvet cake.....ohhh this stuff is so good.\",\n",
              "       '- They never brought a salad we asked for.',\n",
              "       'This hole in the wall has great Mexican street tacos, and friendly staff.',\n",
              "       'Took an hour to get our food only 4 tables in restaurant my food was Luke warm, Our sever was running around like he was totally overwhelmed.',\n",
              "       'The worst was the salmon sashimi.',\n",
              "       'Also there are combos like a burger, fries, and beer for 23 which is a decent deal.',\n",
              "       'This was like the final blow!',\n",
              "       'I found this place by accident and I could not be happier.',\n",
              "       'seems like a good quick place to grab a bite of some familiar pub food, but do yourself a favor and look elsewhere.',\n",
              "       'Overall, I like this place a lot.',\n",
              "       'The only redeeming quality of the restaurant was that it was very inexpensive.',\n",
              "       'Ample portions and good prices.',\n",
              "       'Poor service, the waiter made me feel like I was stupid every time he came to the table.',\n",
              "       'My first visit to Hiro was a delight!', 'Service sucks.',\n",
              "       'The shrimp tender and moist.',\n",
              "       'There is not a deal good enough that would drag me into that establishment again.',\n",
              "       \"Hard to judge whether these sides were good because we were grossed out by the melted styrofoam and didn't want to eat it for fear of getting sick.\",\n",
              "       'On a positive note, our server was very attentive and provided great service.',\n",
              "       'Frozen pucks of disgust, with some of the worst people behind the register.',\n",
              "       'The only thing I did like was the prime rib and dessert section.',\n",
              "       \"It's too bad the food is so damn generic.\",\n",
              "       'The burger is good beef, cooked just right.',\n",
              "       'If you want a sandwich just go to any Firehouse!!!!!',\n",
              "       'My side Greek salad with the Greek dressing was so tasty, and the pita and hummus was very refreshing.',\n",
              "       'We ordered the duck rare and it was pink and tender on the inside with a nice char on the outside.',\n",
              "       'He came running after us when he realized my husband had left his sunglasses on the table.',\n",
              "       'Their chow mein is so good!',\n",
              "       \"They have horrible attitudes towards customers, and talk down to each one when customers don't enjoy their food.\",\n",
              "       'The portion was huge!',\n",
              "       'Loved it...friendly servers, great food, wonderful and imaginative menu.',\n",
              "       'The Heart Attack Grill in downtown Vegas is an absolutely flat-lined excuse for a restaurant.',\n",
              "       'Not much seafood and like 5 strings of pasta at the bottom.',\n",
              "       'The salad had just the right amount of sauce to not over power the scallop, which was perfectly cooked.',\n",
              "       'The ripped banana was not only ripped, but petrified and tasteless.',\n",
              "       'At least think to refill my water before I struggle to wave you over for 10 minutes.',\n",
              "       'This place receives stars for their APPETIZERS!!!',\n",
              "       'The cocktails are all handmade and delicious.',\n",
              "       \"We'd definitely go back here again.\",\n",
              "       'We are so glad we found this place.',\n",
              "       'Great food and service, huge portions and they give a military discount.',\n",
              "       'Always a great time at Dos Gringos!',\n",
              "       'Update.....went back for a second time and it was still just as amazing',\n",
              "       'We got the food and apparently they have never heard of salt and the batter on the fish was chewy.',\n",
              "       'A great way to finish a great.',\n",
              "       'The deal included 5 tastings and 2 drinks, and Jeff went above and beyond what we expected.',\n",
              "       '- Really, really good rice, all the time.',\n",
              "       'The service was meh.',\n",
              "       'It took over 30 min to get their milkshake, which was nothing more than chocolate milk.',\n",
              "       \"I guess I should have known that this place would suck, because it is inside of the Excalibur, but I didn't use my common sense.\",\n",
              "       'The scallop dish is quite appalling for value as well.',\n",
              "       '2 times - Very Bad Customer Service !',\n",
              "       'The sweet potato fries were very good and seasoned well.',\n",
              "       \"Today is the second time I've been to their lunch buffet and it was pretty good.\",\n",
              "       'There is so much good food in Vegas that I feel cheated for wasting an eating opportunity by going to Rice and Company.',\n",
              "       \"Coming here is like experiencing an underwhelming relationship where both parties can't wait for the other person to ask to break up.\",\n",
              "       'walked in and the place smelled like an old grease trap and only 2 others there eating.',\n",
              "       'The turkey and roast beef were bland.', 'This place has it!',\n",
              "       'The pan cakes everyone are raving about taste like a sugary disaster tailored to the palate of a six year old.',\n",
              "       'I love the Pho and the spring rolls oh so yummy you have to try.',\n",
              "       'The poor batter to meat ratio made the chicken tenders very unsatisfying.',\n",
              "       'All I have to say is the food was amazing!!!',\n",
              "       'Omelets are to die for!', 'Everything was fresh and delicious!',\n",
              "       'In summary, this was a largely disappointing dining experience.',\n",
              "       \"It's like a really sexy party in your mouth, where you're outrageously flirting with the hottest person at the party.\",\n",
              "       'Never been to Hard Rock Casino before, WILL NEVER EVER STEP FORWARD IN IT AGAIN!',\n",
              "       'Best breakfast buffet!!!', 'say bye bye to your tip lady!',\n",
              "       \"We'll never go again.\", 'Will be back again!',\n",
              "       'Food arrived quickly!', 'It was not good.',\n",
              "       'On the up side, their cafe serves really good food.',\n",
              "       'Our server was fantastic and when he found out the wife loves roasted garlic and bone marrow, he added extra to our meal and another marrow to go!',\n",
              "       \"The only good thing was our waiter, he was very helpful and kept the bloddy mary's coming.\",\n",
              "       'Best Buffet in town, for the price you cannot beat it.',\n",
              "       'I LOVED their mussels cooked in this wine reduction, the duck was tender, and their potato dishes were delicious.',\n",
              "       'This is one of the better buffets that I have been to.',\n",
              "       'So we went to Tigerlilly and had a fantastic afternoon!',\n",
              "       'The food was delicious, our bartender was attentive and personable AND we got a great deal!',\n",
              "       'The ambience is wonderful and there is music playing.',\n",
              "       'Will go back next trip out.', 'Sooooo good!!',\n",
              "       \"REAL sushi lovers, let's be honest - Yama is not that good.\",\n",
              "       \"At least 40min passed in between us ordering and the food arriving, and it wasn't that busy.\",\n",
              "       'This is a really fantastic Thai restaurant which is definitely worth a visit.',\n",
              "       'Nice, spicy and tender.', 'Good prices.', 'Check it out.',\n",
              "       'It was pretty gross!', \"I've had better atmosphere.\",\n",
              "       'Kind of hard to mess up a steak but they did.',\n",
              "       'Although I very much liked the look and sound of this place, the actual experience was a bit disappointing.',\n",
              "       \"I just don't know how this place managed to served the blandest food I have ever eaten when they are preparing Indian cuisine.\",\n",
              "       'Worst service to boot, but that is the least of their worries.',\n",
              "       'Service was fine and the waitress was friendly.',\n",
              "       \"The guys all had steaks, and our steak loving son who has had steak at the best and worst places said it was the best steak he's ever eaten.\",\n",
              "       \"We thought you'd have to venture further away to get good sushi, but this place really hit the spot that night.\",\n",
              "       'Host staff were, for lack of a better word, BITCHES!',\n",
              "       \"Bland... Not a liking this place for a number of reasons and I don't want to waste time on bad reviewing.. I'll leave it at that...\",\n",
              "       'Phenomenal food, service and ambiance.', \"I wouldn't return.\",\n",
              "       \"Definitely worth venturing off the strip for the pork belly, will return next time I'm in Vegas.\",\n",
              "       'This place is way too overpriced for mediocre food.',\n",
              "       'Penne vodka excellent!',\n",
              "       'They have a good selection of food including a massive meatloaf sandwich, a crispy chicken wrap, a delish tuna melt and some tasty burgers.',\n",
              "       'The management is rude.',\n",
              "       'Delicious NYC bagels, good selections of cream cheese, real Lox with capers even.',\n",
              "       \"Great Subway, in fact it's so good when you come here every other Subway will not meet your expectations.\",\n",
              "       'I had a seriously solid breakfast here.',\n",
              "       'This is one of the best bars with food in Vegas.',\n",
              "       'He was extremely rude and really, there are so many other restaurants I would love to dine at during a weekend in Vegas.',\n",
              "       'My drink was never empty and he made some really great menu suggestions.',\n",
              "       \"Don't do it!!!!\",\n",
              "       \"The waiter wasn't helpful or friendly and rarely checked on us.\",\n",
              "       'My husband and I ate lunch here and were very disappointed with the food and service.',\n",
              "       \"And the red curry had so much bamboo shoots and wasn't very tasty to me.\",\n",
              "       'Nice blanket of moz over top but i feel like this was done to cover up the subpar food.',\n",
              "       'The bathrooms are clean and the place itself is well decorated.',\n",
              "       'The menu is always changing, food quality is going down & service is extremely slow.',\n",
              "       'The service was a little slow , considering that were served by 3 people servers so the food was coming in a slow pace.',\n",
              "       'I give it 2 thumbs down',\n",
              "       'We watched our waiter pay a lot more attention to other tables and ignore us.',\n",
              "       'My fiancé and I came in the middle of the day and we were greeted and seated right away.',\n",
              "       'This is a great restaurant at the Mandalay Bay.',\n",
              "       'We waited for forty five minutes in vain.',\n",
              "       'Crostini that came with the salad was stale.',\n",
              "       'Some highlights : Great quality nigiri here!',\n",
              "       'the staff is friendly and the joint is always clean.',\n",
              "       'this was a different cut than the piece the other day but still wonderful and tender s well as well flavored.',\n",
              "       \"I ordered the Voodoo pasta and it was the first time I'd had really excellent pasta since going gluten free several years ago.\",\n",
              "       'this place is good.',\n",
              "       'Unfortunately, we must have hit the bakery on leftover day because everything we ordered was STALE.',\n",
              "       'I came back today since they relocated and still not impressed.',\n",
              "       'I was seated immediately.',\n",
              "       'Their menu is diverse, and reasonably priced.',\n",
              "       'Avoid at all cost!',\n",
              "       'Restaurant is always full but never a wait.', 'DELICIOUS!!',\n",
              "       'This place is hands-down one of the best places to eat in the Phoenix metro area.',\n",
              "       \"So don't go there if you are looking for good food...\",\n",
              "       \"I've never been treated so bad.\", 'Bacon is hella salty.',\n",
              "       'We also ordered the spinach and avocado salad, the ingredients were sad and the dressing literally had zero taste.',\n",
              "       'This really is how Vegas fine dining used to be, right down to the menus handed to the ladies that have no prices listed.',\n",
              "       'The waitresses are very friendly.',\n",
              "       'Lordy, the Khao Soi is a dish that is not to be missed for curry lovers!',\n",
              "       'Everything on the menu is terrific and we were also thrilled that they made amazing accommodations for our vegetarian daughter.',\n",
              "       \"Perhaps I caught them on an off night judging by the other reviews, but I'm not inspired to go back.\",\n",
              "       'The service here leaves a lot to be desired.',\n",
              "       'The atmosphere is modern and hip, while maintaining a touch of coziness.',\n",
              "       'Not a weekly haunt, but definitely a place to come back to every once in a while.',\n",
              "       'We literally sat there for 20 minutes with no one asking to take our order.',\n",
              "       'The burger had absolutely no flavor - the meat itself was totally bland, the burger was overcooked and there was no charcoal flavor.',\n",
              "       'I also decided not to send it back because our waitress looked like she was on the verge of having a heart attack.',\n",
              "       'I dressed up to be treated so rudely!', 'It was probably dirt.',\n",
              "       'Love this place, hits the spot when I want something healthy but not lacking in quantity or flavor.',\n",
              "       'I ordered the Lemon raspberry ice cocktail which was also incredible.',\n",
              "       'The food sucked, which we expected but it sucked more than we could have imagined.',\n",
              "       'Interesting decor.',\n",
              "       'What I really like there is the crepe station.',\n",
              "       'Also were served hot bread and butter, and home made potato chips with bacon bits on top....very original and very good.',\n",
              "       'you can watch them preparing the delicious food!)',\n",
              "       'Both of the egg rolls were fantastic.',\n",
              "       'When my order arrived, one of the gyros was missing.',\n",
              "       'I had a salad with the wings, and some ice cream for dessert and left feeling quite satisfied.',\n",
              "       \"I'm not really sure how Joey's was voted best hot dog in the Valley by readers of Phoenix Magazine.\",\n",
              "       'The best place to go for a tasty bowl of Pho!',\n",
              "       'The live music on Fridays totally blows.',\n",
              "       \"I've never been more insulted or felt disrespected.\",\n",
              "       'Very friendly staff.', 'It is worth the drive.',\n",
              "       'I had heard good things about this place, but it exceeding every hope I could have dreamed of.',\n",
              "       'Food was great and so was the serivce!',\n",
              "       \"The warm beer didn't help.\", 'Great brunch spot.',\n",
              "       'Service is friendly and inviting.', 'Very good lunch spot.',\n",
              "       \"I've lived here since 1979 and this was the first (and last) time I've stepped foot into this place.\",\n",
              "       'The WORST EXPERIENCE EVER.',\n",
              "       'Must have been an off night at this place.',\n",
              "       'The sides are delish - mixed mushrooms, yukon gold puree, white corn - beateous.',\n",
              "       'If that bug never showed up I would have given a 4 for sure, but on the other side of the wall where this bug was climbing was the kitchen.',\n",
              "       \"For about 10 minutes, we we're waiting for her salad when we realized that it wasn't coming any time soon.\",\n",
              "       'My friend loved the salmon tartar.', \"Won't go back.\",\n",
              "       'Extremely Tasty!', 'Waitress was good though!',\n",
              "       'Soggy and not good.', 'The Jamaican mojitos are delicious.',\n",
              "       'Which are small and not worth the price.',\n",
              "       '- the food is rich so order accordingly.',\n",
              "       \"The shower area is outside so you can only rinse, not take a full shower, unless you don't mind being nude for everyone to see!\",\n",
              "       'The service was a bit lacking.',\n",
              "       'Lobster Bisque, Bussell Sprouts, Risotto, Filet ALL needed salt and pepper..and of course there is none at the tables.',\n",
              "       'Hopefully this bodes for them going out of business and someone who can cook can come in.',\n",
              "       'It was either too cold, not enough flavor or just bad.',\n",
              "       'I loved the bacon wrapped dates.',\n",
              "       'This is an unbelievable BARGAIN!',\n",
              "       'The folks at Otto always make us feel so welcome and special.',\n",
              "       'As for the \"mains,\" also uninspired.',\n",
              "       'This is the place where I first had pho and it was amazing!!',\n",
              "       'This wonderful experience made this place a must-stop whenever we are in town again.',\n",
              "       \"If the food isn't bad enough for you, then enjoy dealing with the world's worst/annoying drunk people.\",\n",
              "       'Very very fun chef.',\n",
              "       'Ordered a double cheeseburger & got a single patty that was falling apart (picture uploaded) Yeah, still sucks.',\n",
              "       \"Great place to have a couple drinks and watch any and all sporting events as the walls are covered with TV's.\",\n",
              "       \"If it were possible to give them zero stars, they'd have it.\",\n",
              "       'The descriptions said \"yum yum sauce\" and another said \"eel sauce\", yet another said \"spicy mayo\"...well NONE of the rolls had sauces on them.',\n",
              "       \"I'd say that would be the hardest decision... Honestly, all of M's dishes taste how they are supposed to taste (amazing).\",\n",
              "       'If she had not rolled the eyes we may have stayed... Not sure if we will go back and try it again.',\n",
              "       'Everyone is very attentive, providing excellent customer service.',\n",
              "       \"Horrible - don't waste your time and money.\",\n",
              "       'Now this dish was quite flavourful.',\n",
              "       'By this time our side of the restaurant was almost empty so there was no excuse.',\n",
              "       \"(It wasn't busy either) Also, the building was FREEZING cold.\",\n",
              "       'like the other reviewer said \"you couldn\\'t pay me to eat at this place again.\"',\n",
              "       '-Drinks took close to 30 minutes to come out at one point.',\n",
              "       'Seriously flavorful delights, folks.',\n",
              "       'Much better than the other AYCE sushi place I went to in Vegas.',\n",
              "       'The lighting is just dark enough to set the mood.',\n",
              "       \"Based on the sub-par service I received and no effort to show their gratitude for my business I won't be going back.\",\n",
              "       \"Owner's are really great people.!\",\n",
              "       'There is nothing privileged about working/eating there.',\n",
              "       'The Greek dressing was very creamy and flavorful.',\n",
              "       \"Overall, I don't think that I would take my parents to this place again because they made most of the similar complaints that I silently felt too.\",\n",
              "       'Now the pizza itself was good the peanut sauce was very tasty.',\n",
              "       'We had 7 at our table and the service was pretty fast.',\n",
              "       'Fantastic service here.',\n",
              "       \"I as well would've given godfathers zero stars if possible.\",\n",
              "       'They know how to make them here.',\n",
              "       'very tough and very short on flavor!',\n",
              "       'I hope this place sticks around.',\n",
              "       'I have been in more than a few bars in Vegas, and do not ever recall being charged for tap water.',\n",
              "       'The restaurant atmosphere was exquisite.',\n",
              "       'Good service, very clean, and inexpensive, to boot!',\n",
              "       'The seafood was fresh and generous in portion.',\n",
              "       \"Plus, it's only 8 bucks.\",\n",
              "       'The service was not up to par, either.',\n",
              "       'Thus far, have only visited twice and the food was absolutely delicious each time.',\n",
              "       'Just as good as when I had it more than a year ago!',\n",
              "       'For a self proclaimed coffee cafe, I was wildly disappointed.',\n",
              "       'The Veggitarian platter is out of this world!',\n",
              "       'You cant go wrong with any of the food here.',\n",
              "       \"You can't beat that.\",\n",
              "       'Stopped by this place while in Madison for the Ironman, very friendly, kind staff.',\n",
              "       'The chefs were friendly and did a good job.',\n",
              "       \"I've had better, not only from dedicated boba tea spots, but even from Jenni Pho.\",\n",
              "       'I liked the patio and the service was outstanding.',\n",
              "       \"The goat taco didn't skimp on the meat and wow what FLAVOR!\",\n",
              "       'I think not again',\n",
              "       'I had the mac salad and it was pretty bland so I will not be getting that again.',\n",
              "       \"I went to Bachi Burger on a friend's recommendation and was not disappointed.\",\n",
              "       'Service stinks here!', 'I waited and waited.',\n",
              "       'This place is not quality sushi, it is not a quality restaurant.',\n",
              "       'I would definitely recommend the wings as well as the pizza.',\n",
              "       'Great Pizza and Salads!',\n",
              "       'Things that went wrong: - They burned the saganaki.',\n",
              "       'We waited an hour for what was a breakfast I could have done 100 times better at home.',\n",
              "       'This place is amazing!',\n",
              "       'I hate to disagree with my fellow Yelpers, but my husband and I were so disappointed with this place.',\n",
              "       'Waited 2 hours & never got either of our pizzas as many other around us who came in later did!',\n",
              "       \"Just don't know why they were so slow.\",\n",
              "       'The staff is great, the food is delish, and they have an incredible beer selection.',\n",
              "       \"I live in the neighborhood so I am disappointed I won't be back here, because it is a convenient location.\",\n",
              "       \"I didn't know pulled pork could be soooo delicious.\",\n",
              "       'You get incredibly fresh fish, prepared with care.',\n",
              "       'Before I go in to why I gave a 1 star rating please know that this was my third time eating at Bachi burger before writing a review.',\n",
              "       'I love the fact that everything on their menu is worth it.',\n",
              "       'Never again will I be dining at this place!',\n",
              "       'The food was excellent and service was very good.',\n",
              "       'Good beer & drink selection and good food selection.',\n",
              "       'Please stay away from the shrimp stir fried noodles.',\n",
              "       'The potato chip order was sad... I could probably count how many chips were in that box and it was probably around 12.',\n",
              "       'Food was really boring.', 'Good Service-check!',\n",
              "       'This greedy corporation will NEVER see another dime from me!',\n",
              "       'Will never, ever go back.',\n",
              "       \"As much as I'd like to go back, I can't get passed the atrocious service and will never return.\",\n",
              "       'In the summer, you can dine in a charming outdoor patio - so very delightful.',\n",
              "       'I did not expect this to be so good!', 'Fantastic food!',\n",
              "       'She ordered a toasted English muffin that came out untoasted.',\n",
              "       'The food was very good.', 'Never going back.',\n",
              "       'Great food for the price, which is very high quality and house made.',\n",
              "       'The bus boy on the other hand was so rude.',\n",
              "       \"By this point, my friends and I had basically figured out this place was a joke and didn't mind making it publicly and loudly known.\",\n",
              "       'Back to good BBQ, lighter fare, reasonable pricing and tell the public they are back to the old ways.',\n",
              "       \"And considering the two of us left there very full and happy for about $20, you just can't go wrong.\",\n",
              "       'All the bread is made in-house!',\n",
              "       'The only downside is the service.',\n",
              "       \"Also, the fries are without a doubt the worst fries I've ever had.\",\n",
              "       'Service was exceptional and food was a good as all the reviews.',\n",
              "       'A couple of months later, I returned and had an amazing meal.',\n",
              "       'Favorite place in town for shawarrrrrrma!!!!!!',\n",
              "       'The black eyed peas and sweet potatoes... UNREAL!',\n",
              "       \"You won't be disappointed.\",\n",
              "       'They could serve it with just the vinaigrette and it may make for a better overall dish, but it was still very good.',\n",
              "       \"I go to far too many places and I've never seen any restaurant that serves a 1 egg breakfast, especially for $4.00.\",\n",
              "       'When my mom and I got home she immediately got sick and she only had a few bites of salad.',\n",
              "       \"The servers are not pleasant to deal with and they don't always honor Pizza Hut coupons.\",\n",
              "       'Both of them were truly unbelievably good, and I am so glad we went back.',\n",
              "       'We had fantastic service, and were pleased by the atmosphere.',\n",
              "       'Everything was gross.', 'I love this place.',\n",
              "       'Great service and food.',\n",
              "       'First - the bathrooms at this location were dirty- Seat covers were not replenished & just plain yucky!!!',\n",
              "       'The burger... I got the \"Gold Standard\" a $17 burger and was kind of disappointed.',\n",
              "       'OMG, the food was delicioso!',\n",
              "       'There is nothing authentic about this place.',\n",
              "       'the spaghetti is nothing special whatsoever.',\n",
              "       'Of all the dishes, the salmon was the best, but all were great.',\n",
              "       'The vegetables are so fresh and the sauce feels like authentic Thai.',\n",
              "       \"It's worth driving up from Tucson!\",\n",
              "       \"The selection was probably the worst I've seen in Vegas.....there was none.\",\n",
              "       'Pretty good beer selection too.',\n",
              "       'This place is like Chipotle, but BETTER.',\n",
              "       'Classy/warm atmosphere, fun and fresh appetizers, succulent steaks (Baseball steak!!!!!',\n",
              "       '5 stars for the brick oven bread app!',\n",
              "       'I have eaten here multiple times, and each time the food was delicious.',\n",
              "       'We sat another ten minutes and finally gave up and left.',\n",
              "       'He was terrible!', 'Everyone is treated equally special.',\n",
              "       \"It shouldn't take 30 min for pancakes and eggs.\",\n",
              "       'It was delicious!!!',\n",
              "       'On the good side, the staff was genuinely pleasant and enthusiastic - a real treat.',\n",
              "       \"Sadly, Gordon Ramsey's Steak is a place we shall sharply avoid during our next trip to Vegas.\",\n",
              "       'As always the evening was wonderful and the food delicious!',\n",
              "       \"Best fish I've ever had in my life!\",\n",
              "       '(The bathroom is just next door and very nice.)',\n",
              "       'The buffet is small and all the food they offered was BLAND.',\n",
              "       'This is an Outstanding little restaurant with some of the Best Food I have ever tasted.',\n",
              "       'Pretty cool I would say.',\n",
              "       \"Definitely a turn off for me & i doubt I'll be back unless someone else is buying.\",\n",
              "       'Server did a great job handling our large rowdy table.',\n",
              "       \"I find wasting food to be despicable, but this just wasn't food.\",\n",
              "       'My wife had the Lobster Bisque soup which was lukewarm.',\n",
              "       'Would come back again if I had a sushi craving while in Vegas.',\n",
              "       'The staff are great, the ambiance is great.',\n",
              "       'He deserves 5 stars.',\n",
              "       'I left with a stomach ache and felt sick the rest of the day.',\n",
              "       'They dropped more than the ball.',\n",
              "       'The dining space is tiny, but elegantly decorated and comfortable.',\n",
              "       \"They will customize your order any way you'd like, my usual is Eggplant with Green Bean stir fry, love it!\",\n",
              "       'And the beans and rice were mediocre at best.',\n",
              "       'Best tacos in town by far!!',\n",
              "       'I took back my money and got outta there.',\n",
              "       'In an interesting part of town, this place is amazing.',\n",
              "       'RUDE & INCONSIDERATE MANAGEMENT.',\n",
              "       'The staff are now not as friendly, the wait times for being served are horrible, no one even says hi for the first 10 minutes.',\n",
              "       \"I won't be back.\", 'They have great dinners.',\n",
              "       'The service was outshining & I definitely recommend the Halibut.',\n",
              "       'The food was terrible.',\n",
              "       'WILL NEVER EVER GO BACK AND HAVE TOLD MANY PEOPLE WHAT HAD HAPPENED.',\n",
              "       \"I don't recommend unless your car breaks down in front of it and you are starving.\",\n",
              "       \"I will come back here every time I'm in Vegas.\",\n",
              "       'This place deserves one star and 90% has to do with the food.',\n",
              "       'This is a disgrace.', 'Def coming back to bowl next time',\n",
              "       'If you want healthy authentic or ethic food, try this place.',\n",
              "       'I will continue to come here on ladies night andddd date night ... highly recommend this place to anyone who is in the area.',\n",
              "       'I have been here several times in the past, and the experience has always been great.',\n",
              "       'We walked away stuffed and happy about our first Vegas buffet experience.',\n",
              "       'Service was excellent and prices are pretty reasonable considering this is Vegas and located inside the Crystals shopping mall by Aria.',\n",
              "       'To summarize... the food was incredible, nay, transcendant... but nothing brings me joy quite like the memory of the pneumatic condiment dispenser.',\n",
              "       \"I'm probably one of the few people to ever go to Ians and not like it.\",\n",
              "       'Kids pizza is always a hit too with lots of great side dish options for the kiddos!',\n",
              "       'Service is perfect and the family atmosphere is nice to see.',\n",
              "       'Cooked to perfection and the service was impeccable.',\n",
              "       'This one is simply a disappointment.',\n",
              "       'Overall, I was very disappointed with the quality of food at Bouchon.',\n",
              "       \"I don't have to be an accountant to know I'm getting screwed!\",\n",
              "       'Great place to eat, reminds me of the little mom and pop shops in the San Francisco Bay Area.',\n",
              "       'Today was my first taste of a Buldogis Gourmet Hot Dog and I have to tell you it was more than I ever thought possible.',\n",
              "       'Left very frustrated.', \"I'll definitely be in soon again.\",\n",
              "       'Food was really good and I got full petty fast.',\n",
              "       'Service was fantastic.', 'TOTAL WASTE OF TIME.',\n",
              "       \"I don't know what kind it is but they have the best iced tea.\",\n",
              "       'Come hungry, leave happy and stuffed!',\n",
              "       'For service, I give them no stars.',\n",
              "       \"I can assure you that you won't be disappointed.\",\n",
              "       'I can take a little bad service but the food sucks.',\n",
              "       'Gave up trying to eat any of the crust (teeth still sore).',\n",
              "       'But now I was completely grossed out.',\n",
              "       'I really enjoyed eating here.',\n",
              "       'First time going but I think I will quickly become a regular.',\n",
              "       'Our server was very nice, and even though he looked a little overwhelmed with all of our needs, he stayed professional and friendly until the end.',\n",
              "       'From what my dinner companions told me...everything was very fresh with nice texture and taste.',\n",
              "       'On the ground, right next to our table was a large, smeared, been-stepped-in-and-tracked-everywhere pile of green bird poop.',\n",
              "       \"Furthermore, you can't even find hours of operation on the website!\",\n",
              "       \"We've tried to like this place but after 10+ times I think we're done with them.\",\n",
              "       'What a mistake that was!', 'No complaints!',\n",
              "       \"This is some seriously good pizza and I'm an expert/connisseur on the topic.\",\n",
              "       'Waiter was a jerk.', 'Strike 2, who wants to be rushed.',\n",
              "       \"These are the nicest restaurant owners I've ever come across.\",\n",
              "       'I never come again.', 'We loved the biscuits!!!',\n",
              "       'Service is quick and friendly.',\n",
              "       'Ordered an appetizer and took 40 minutes and then the pizza another 10 minutes.',\n",
              "       'So absolutley fantastic.',\n",
              "       'It was a huge awkward 1.5lb piece of cow that was 3/4ths gristle and fat.',\n",
              "       'definitely will come back here again.',\n",
              "       \"I like Steiners because it's dark and it feels like a bar.\",\n",
              "       'Wow very spicy but delicious.',\n",
              "       \"If you're not familiar, check it out.\",\n",
              "       \"I'll take my business dinner dollars elsewhere.\",\n",
              "       \"I'd love to go back.\",\n",
              "       'Anyway, this FS restaurant has a wonderful breakfast/lunch.',\n",
              "       'Nothing special.',\n",
              "       \"Each day of the week they have a different deal and it's all so delicious!\",\n",
              "       'Not to mention the combination of pears, almonds and bacon is a big winner!',\n",
              "       'Will not be back.', 'Sauce was tasteless.',\n",
              "       'The food is delicious and just spicy enough, so be sure to ask for spicier if you prefer it that way.',\n",
              "       'My ribeye steak was cooked perfectly and had great mesquite flavor.',\n",
              "       \"I don't think we'll be going back anytime soon.\",\n",
              "       'Food was so gooodd.',\n",
              "       'I am far from a sushi connoisseur but I can definitely tell the difference between good food and bad food and this was certainly bad food.',\n",
              "       'I was so insulted.',\n",
              "       'The last 3 times I had lunch here has been bad.',\n",
              "       'The chicken wings contained the driest chicken meat I have ever eaten.',\n",
              "       'The food was very good and I enjoyed every mouthful, an enjoyable relaxed venue for couples small family groups etc.',\n",
              "       'Nargile - I think you are great.',\n",
              "       'Best tater tots in the southwest.', 'We loved the place.',\n",
              "       'Definitely not worth the $3 I paid.',\n",
              "       'The vanilla ice cream was creamy and smooth while the profiterole (choux) pastry was fresh enough.',\n",
              "       'Im in AZ all the time and now have my new spot.',\n",
              "       'The manager was the worst.',\n",
              "       'The inside is really quite nice and very clean.',\n",
              "       'The food was outstanding and the prices were very reasonable.',\n",
              "       \"I don't think I'll be running back to Carly's anytime soon for food.\",\n",
              "       'This is was due to the fact that it took 20 minutes to be acknowledged, then another 35 minutes to get our food...and they kept forgetting things.',\n",
              "       'Love the margaritas, too!',\n",
              "       'This was my first and only Vegas buffet and it did not disappoint.',\n",
              "       'Very good, though!',\n",
              "       'The one down note is the ventilation could use some upgrading.',\n",
              "       'Great pork sandwich.', \"Don't waste your time here.\",\n",
              "       'Total letdown, I would much rather just go to the Camelback Flower Shop and Cartel Coffee.',\n",
              "       \"Third, the cheese on my friend's burger was cold.\",\n",
              "       'We enjoy their pizza and brunch.',\n",
              "       'The steaks are all well trimmed and also perfectly cooked.',\n",
              "       'We had a group of 70+ when we claimed we would only have 40 and they handled us beautifully.',\n",
              "       'I LOVED it!',\n",
              "       \"We asked for the bill to leave without eating and they didn't bring that either.\",\n",
              "       \"This place is a jewel in Las Vegas, and exactly what I've been hoping to find in nearly ten years living here.\",\n",
              "       'Seafood was limited to boiled shrimp and crab legs but the crab legs definitely did not taste fresh.',\n",
              "       'The selection of food was not the best.',\n",
              "       'Delicious and I will absolutely be back!',\n",
              "       \"This isn't a small family restaurant, this is a fine dining establishment.\",\n",
              "       'They had a toro tartare with a cavier that was extraordinary and I liked the thinly sliced wagyu with white truffle.',\n",
              "       'I dont think I will be back for a very long time.',\n",
              "       'It was attached to a gas station, and that is rarely a good sign.',\n",
              "       'How awesome is that.', 'I will be back many times soon.',\n",
              "       'The menu had so much good stuff on it i could not decide!',\n",
              "       'Worse of all, he humiliated his worker right in front of me..Bunch of horrible name callings.',\n",
              "       'CONCLUSION: Very filling meals.',\n",
              "       'Their daily specials are always a hit with my group.',\n",
              "       'And then tragedy struck.',\n",
              "       'The pancake was also really good and pretty large at that.',\n",
              "       'This was my first crawfish experience, and it was delicious!',\n",
              "       'Their monster chicken fried steak and eggs is my all time favorite.',\n",
              "       'Waitress was sweet and funny.',\n",
              "       \"I also had to taste my Mom's multi-grain pumpkin pancakes with pecan butter and they were amazing, fluffy, and delicious!\",\n",
              "       \"I'd rather eat airline food, seriously.\",\n",
              "       'Cant say enough good things about this place.',\n",
              "       'The ambiance was incredible.',\n",
              "       'The waitress and manager are so friendly.',\n",
              "       'I would not recommend this place.',\n",
              "       \"Overall I wasn't very impressed with Noca.\",\n",
              "       'My gyro was basically lettuce only.', 'Terrible service!',\n",
              "       'Thoroughly disappointed!',\n",
              "       \"I don't each much pasta, but I love the homemade /hand made pastas and thin pizzas here.\",\n",
              "       'Give it a try, you will be happy you did.',\n",
              "       'By far the BEST cheesecurds we have ever had!',\n",
              "       'Reasonably priced also!',\n",
              "       'Everything was perfect the night we were in.',\n",
              "       'The food is very good for your typical bar food.',\n",
              "       'it was a drive to get there.',\n",
              "       'At first glance it is a lovely bakery cafe - nice ambiance, clean, friendly staff.',\n",
              "       'Anyway, I do not think i will go back there.',\n",
              "       \"Point your finger at any item on the menu, order it and you won't be disappointed.\",\n",
              "       'Oh this is such a thing of beauty, this restaurant.',\n",
              "       \"If you haven't gone here GO NOW!\", 'A greasy, unhealthy meal.',\n",
              "       'first time there and might just be the last.',\n",
              "       'Those burgers were amazing.',\n",
              "       'Similarly, the delivery man did not say a word of apology when our food was 45 minutes late.',\n",
              "       'And it was way to expensive.',\n",
              "       'Be sure to order dessert, even if you need to pack it to-go - the tiramisu and cannoli are both to die for.',\n",
              "       \"This was my first time and I can't wait until the next.\",\n",
              "       'The bartender was also nice.', 'Everything was good and tasty!',\n",
              "       'This place is two thumbs up....way up.',\n",
              "       'The best place in Vegas for breakfast (just check out a Sat, or Sun.',\n",
              "       'If you love authentic Mexican food and want a whole bunch of interesting, yet delicious meats to choose from, you need to try this place.',\n",
              "       'Terrible management.',\n",
              "       'An excellent new restaurant by an experienced Frenchman.',\n",
              "       'If there were zero stars I would give it zero stars.',\n",
              "       'Great steak, great sides, great wine, amazing desserts.',\n",
              "       'Worst martini ever!',\n",
              "       'The steak and the shrimp are in my opinion the best entrees at GC.',\n",
              "       'I had the opportunity today to sample your amazing pizzas!',\n",
              "       'We waited for thirty minutes to be seated (although there were 8 vacant tables and we were the only folks waiting).',\n",
              "       'The yellowtail carpaccio was melt in your mouth fresh.',\n",
              "       \"I won't try going back there even if it's empty.\",\n",
              "       \"No, I'm going to eat the potato that I found some strangers hair in it.\",\n",
              "       'Just spicy enough.. Perfect actually.',\n",
              "       'Last night was my second time dining here and I was so happy I decided to go back!',\n",
              "       'not even a \"hello, we will be right with you.\"',\n",
              "       'The desserts were a bit strange.',\n",
              "       'My boyfriend and I came here for the first time on a recent trip to Vegas and could not have been more pleased with the quality of food and service.',\n",
              "       'I really do recommend this place, you can go wrong with this donut place!',\n",
              "       'Nice ambiance.', 'I would recommend saving room for this!',\n",
              "       'I guess maybe we went on an off night but it was disgraceful.',\n",
              "       'However, my recent experience at this particular location was not so good.',\n",
              "       'I know this is not like the other restaurants at all, something is very off here!',\n",
              "       'AVOID THIS ESTABLISHMENT!',\n",
              "       'I think this restaurant suffers from not trying hard enough.',\n",
              "       'All of the tapas dishes were delicious!', 'I *heart* this place.',\n",
              "       'My salad had a bland vinegrette on the baby greens and hearts of Palm.',\n",
              "       'After two I felt disgusting.', 'A good time!',\n",
              "       'I believe that this place is a great stop for those with a huge belly and hankering for sushi.',\n",
              "       'Generous portions and great taste.',\n",
              "       'I will never go back to this place and will never ever recommended this place to anyone!',\n",
              "       'The servers went back and forth several times, not even so much as an \"Are you being helped?\"',\n",
              "       'Food was delicious!', 'AN HOUR... seriously?',\n",
              "       'I consider this theft.',\n",
              "       'Eew... This location needs a complete overhaul.',\n",
              "       'We recently witnessed her poor quality of management towards other guests as well.',\n",
              "       'Waited and waited and waited.',\n",
              "       'He also came back to check on us regularly, excellent service.',\n",
              "       'Our server was super nice and checked on us many times.',\n",
              "       'The pizza tasted old, super chewy in not a good way.',\n",
              "       'I swung in to give them a try but was deeply disappointed.',\n",
              "       'Service was good and the company was better!',\n",
              "       'The staff are also very friendly and efficient.',\n",
              "       \"As for the service: I'm a fan, because it's quick and you're being served by some nice folks.\",\n",
              "       'Boy was that sucker dry!!.', 'Over rated.',\n",
              "       'If you look for authentic Thai food, go else where.',\n",
              "       'Their steaks are 100% recommended!',\n",
              "       'After I pulled up my car I waited for another 15 minutes before being acknowledged.',\n",
              "       'Great food and great service in a clean and friendly setting.',\n",
              "       \"All in all, I can assure you I'll be back.\",\n",
              "       'I hate those things as much as cheap quality black olives.',\n",
              "       'My breakfast was perpared great, with a beautiful presentation of 3 giant slices of Toast, lightly dusted with powdered sugar.',\n",
              "       'The kids play area is NASTY!',\n",
              "       'Great place fo take out or eat in.',\n",
              "       'The waitress was friendly and happy to accomodate for vegan/veggie options.',\n",
              "       'OMG I felt like I had never eaten Thai food until this dish.',\n",
              "       'It was extremely \"crumby\" and pretty tasteless.',\n",
              "       'It was a pale color instead of nice and char and has NO flavor.',\n",
              "       'The croutons also taste homemade which is an extra plus.',\n",
              "       'I got home to see the driest damn wings ever!',\n",
              "       \"It'll be a regular stop on my trips to Phoenix!\",\n",
              "       'I really enjoyed Crema Café before they expanded. I even told friends they had the BEST breakfast.',\n",
              "       'Not good for the money.',\n",
              "       'I miss it and wish they had one in Philadelphia!',\n",
              "       'We got sitting fairly fast, but, ended up waiting 40 minutes just to place our order, another 30 minutes before the food arrived.',\n",
              "       'They also have the best cheese crisp in town.',\n",
              "       'Good value, great food, great service.',\n",
              "       \"Couldn't ask for a more satisfying meal.\", 'The food is good.',\n",
              "       'It was awesome.', 'I just wanted to leave.',\n",
              "       'We made the drive all the way from North Scottsdale... and I was not one bit disappointed!',\n",
              "       'I will not be eating there again.',\n",
              "       '!....THE OWNERS REALLY REALLY need to quit being soooooo cheap let them wrap my freaking sandwich in two papers not one!',\n",
              "       'I checked out this place a couple years ago and was not impressed.',\n",
              "       'The chicken I got was definitely reheated and was only ok, the wedges were cold and soggy.',\n",
              "       'Sorry, I will not be getting food from here anytime soon :(',\n",
              "       'An absolute must visit!',\n",
              "       'The cow tongue and cheek tacos are amazing.',\n",
              "       'My friend did not like his Bloody Mary.',\n",
              "       'Despite how hard I rate businesses, its actually rare for me to give a 1 star.',\n",
              "       'They really want to make your experience a good one.',\n",
              "       'I will not return.',\n",
              "       'I had the chicken Pho and it tasted very bland.',\n",
              "       'Very disappointing!!!',\n",
              "       'The grilled chicken was so tender and yellow from the saffron seasoning.',\n",
              "       'a drive thru means you do not want to wait around for half an hour for your food, but somehow when we end up going here they make us wait and wait.',\n",
              "       'Pretty awesome place.', 'Ambience is perfect.',\n",
              "       'Best of luck to the rude and non-customer service focused new management.',\n",
              "       'Any grandmother can make a roasted chicken better than this one.',\n",
              "       'I asked multiple times for the wine list and after some time of being ignored I went to the hostess and got one myself.',\n",
              "       'The staff is always super friendly and helpful, which is especially cool when you bring two small boys and a baby!',\n",
              "       'Four stars for the food & the guy in the blue shirt for his great vibe & still letting us in to eat !',\n",
              "       'The roast beef sandwich tasted really good!',\n",
              "       'Same evening, him and I are both drastically sick.',\n",
              "       'High-quality chicken on the chicken Caesar salad.',\n",
              "       \"Ordered burger rare came in we'll done.\",\n",
              "       'We were promptly greeted and seated.',\n",
              "       'Tried to go here for lunch and it was a madhouse.',\n",
              "       'I was proven dead wrong by this sushi bar, not only because the quality is great, but the service is fast and the food, impeccable.',\n",
              "       'After waiting an hour and being seated, I was not in the greatest of moods.',\n",
              "       'This is a good joint.', 'The Macarons here are insanely good.',\n",
              "       \"I'm not eating here!\",\n",
              "       'Our waiter was very attentive, friendly, and informative.',\n",
              "       \"Maybe if they weren't cold they would have been somewhat edible.\",\n",
              "       'This place has a lot of promise but fails to deliver.',\n",
              "       'Very bad Experience!', 'What a mistake.',\n",
              "       'Food was average at best.', 'Great food.',\n",
              "       \"We won't be going back anytime soon!\",\n",
              "       'Very Very Disappointed ordered the $35 Big Bay Plater.',\n",
              "       'Great place to relax and have an awesome burger and beer.',\n",
              "       'It is PERFECT for a sit-down family meal or get together with a few friends.',\n",
              "       'Not much flavor to them, and very poorly constructed.',\n",
              "       'The patio seating was very comfortable.',\n",
              "       'The fried rice was dry as well.',\n",
              "       'Hands down my favorite Italian restaurant!',\n",
              "       'That just SCREAMS \"LEGIT\" in my book...somethat\\'s also pretty rare here in Vegas.',\n",
              "       'It was just not a fun experience.',\n",
              "       'The atmosphere was great with a lovely duo of violinists playing songs we requested.',\n",
              "       \"I personally love the hummus, pita, baklava, falafels and Baba Ganoush (it's amazing what they do with eggplant!).\",\n",
              "       'Very convenient, since we were staying at the MGM!',\n",
              "       'The owners are super friendly and the staff is courteous.',\n",
              "       'Both great!', 'Eclectic selection.',\n",
              "       'The sweet potato tots were good but the onion rings were perfection or as close as I have had.',\n",
              "       'The staff was very attentive.',\n",
              "       'And the chef was generous with his time (even came around twice so we can take pictures with him).',\n",
              "       'The owner used to work at Nobu, so this place is really similar for half the price.',\n",
              "       'Google mediocre and I imagine Smashburger will pop up.',\n",
              "       'dont go here.', \"I promise they won't disappoint.\",\n",
              "       'As a sushi lover avoid this place by all means.',\n",
              "       'What a great double cheeseburger!', 'Awesome service and food.',\n",
              "       'A fantastic neighborhood gem !!!', \"I can't wait to go back.\",\n",
              "       \"The plantains were the worst I've ever tasted.\",\n",
              "       \"It's a great place and I highly recommend it.\",\n",
              "       'Service was slow and not attentive.',\n",
              "       \"I gave it 5 stars then, and I'm giving it 5 stars now.\",\n",
              "       'Your staff spends more time talking to themselves than me.',\n",
              "       'Dessert: Panna Cotta was amazing.',\n",
              "       'Very good food, great atmosphere.1', 'Damn good steak.',\n",
              "       'Total brunch fail.',\n",
              "       'Prices are very reasonable, flavors are spot on, the sauce is home made, and the slaw is not drenched in mayo.',\n",
              "       'The decor is nice, and the piano music soundtrack is pleasant.',\n",
              "       'The steak was amazing...rge fillet relleno was the best seafood plate i have ever had!',\n",
              "       'Good food , good service .', 'It was absolutely amazing.',\n",
              "       \"I probably won't be back, to be honest.\",\n",
              "       'will definitely be back!',\n",
              "       'The sergeant pepper beef sandwich with auju sauce is an excellent sandwich as well.',\n",
              "       \"Hawaiian Breeze, Mango Magic, and Pineapple Delight are the smoothies that I've tried so far and they're all good.\",\n",
              "       'Went for lunch - service was slow.',\n",
              "       'We had so much to say about the place before we walked in that he expected it to be amazing, but was quickly disappointed.',\n",
              "       'I was mortified.',\n",
              "       'Needless to say, we will never be back here again.',\n",
              "       'Anyways, The food was definitely not filling at all, and for the price you pay you should expect more.',\n",
              "       'The chips that came out were dripping with grease, and mostly not edible.',\n",
              "       \"I wasn't really impressed with Strip Steak.\",\n",
              "       'Have been going since 2007 and every meal has been awesome!!',\n",
              "       'Our server was very nice and attentive as were the other serving staff.',\n",
              "       'The cashier was friendly and even brought the food out to me.',\n",
              "       'I work in the hospitality industry in Paradise Valley and have refrained from recommending Cibo any longer.',\n",
              "       'The atmosphere here is fun.', 'Would not recommend to others.',\n",
              "       'Service is quick and even \"to go\" orders are just like we like it!',\n",
              "       \"I mean really, how do you get so famous for your fish and chips when it's so terrible!?!\",\n",
              "       'That said, our mouths and bellies were still quite pleased.',\n",
              "       'Not my thing.', '2 Thumbs Up!!',\n",
              "       \"If you are reading this please don't go there.\",\n",
              "       'I loved the grilled pizza, reminded me of legit Italian pizza.',\n",
              "       'Only Pros : Large seating area/ Nice bar area/ Great simple drink menu/ The BEST brick oven pizza with homemade dough!',\n",
              "       'They have a really nice atmosphere.',\n",
              "       'Tonight I had the Elk Filet special...and it sucked.',\n",
              "       'After one bite, I was hooked.',\n",
              "       'We ordered some old classics and some new dishes after going there a few times and were sorely disappointed with everything.',\n",
              "       'Cute, quaint, simple, honest.',\n",
              "       'The chicken was deliciously seasoned and had the perfect fry on the outside and moist chicken on the inside.',\n",
              "       'The food was great as always, compliments to the chef.',\n",
              "       'Special thanks to Dylan T. for the recommendation on what to order :) All yummy for my tummy.',\n",
              "       'Awesome selection of beer.', 'Great food and awesome service!',\n",
              "       \"One nice thing was that they added gratuity on the bill since our party was larger than 6 or 8, and they didn't expect more tip than that.\",\n",
              "       'A FLY was in my apple juice.. A FLY!!!!!!!!',\n",
              "       'The Han Nan Chicken was also very tasty.',\n",
              "       'As for the service, I thought it was good.',\n",
              "       'The food was barely lukewarm, so it must have been sitting waiting for the server to bring it out to us.',\n",
              "       \"Ryan's Bar is definitely one Edinburgh establishment I won't be revisiting.\",\n",
              "       \"Nicest Chinese restaurant I've been in a while.\",\n",
              "       'Overall, I like there food and the service.',\n",
              "       'They also now serve Indian naan bread with hummus and some spicy pine nut sauce that was out of this world.',\n",
              "       \"Probably never coming back, and wouldn't recommend it.\",\n",
              "       \"Friend's pasta -- also bad, he barely touched it.\",\n",
              "       'Try them in the airport to experience some tasty food and speedy, friendly service.',\n",
              "       'I love the decor with the Chinese calligraphy wall paper.',\n",
              "       'Never had anything to complain about here.',\n",
              "       'The restaurant is very clean and has a family restaurant feel to it.',\n",
              "       'It was way over fried.',\n",
              "       \"I'm not sure how long we stood there but it was long enough for me to begin to feel awkwardly out of place.\",\n",
              "       'When I opened the sandwich, I was impressed, but not in a good way.',\n",
              "       'Will not be back!',\n",
              "       'There was a warm feeling with the service and I felt like their guest for a special treat.',\n",
              "       'An extensive menu provides lots of options for breakfast.',\n",
              "       'I always order from the vegetarian menu during dinner, which has a wide array of options to choose from.',\n",
              "       'I have watched their prices inflate, portions get smaller and management attitudes grow rapidly!',\n",
              "       'Wonderful lil tapas and the ambience made me feel all warm and fuzzy inside.',\n",
              "       'I got to enjoy the seafood salad, with a fabulous vinegrette.',\n",
              "       'The wontons were thin, not thick and chewy, almost melt in your mouth.',\n",
              "       \"Level 5 spicy was perfect, where spice didn't over-whelm the soup.\",\n",
              "       'We were sat right on time and our server from the get go was FANTASTIC!',\n",
              "       \"Main thing I didn't enjoy is that the crowd is of older crowd, around mid 30s and up.\",\n",
              "       \"When I'm on this side of town, this will definitely be a spot I'll hit up again!\",\n",
              "       'I had to wait over 30 minutes to get my drink and longer to get 2 arepas.',\n",
              "       'This is a GREAT place to eat!',\n",
              "       'The jalapeno bacon is soooo good.',\n",
              "       'The service was poor and thats being nice.',\n",
              "       'Food was good, service was good, Prices were good.',\n",
              "       'The place was not clean and the food oh so stale!',\n",
              "       'The chicken dishes are OK, the beef is like shoe leather.',\n",
              "       'But the service was beyond bad.', 'I\\'m so happy to be here!!!\"',\n",
              "       'Tasted like dirt.',\n",
              "       'One of the few places in Phoenix that I would definately go back to again .',\n",
              "       'The block was amazing.',\n",
              "       \"It's close to my house, it's low-key, non-fancy, affordable prices, good food.\",\n",
              "       '* Both the Hot & Sour & the Egg Flower Soups were absolutely 5 Stars!',\n",
              "       'My sashimi was poor quality being soggy and tasteless.',\n",
              "       'Great time - family dinner on a Sunday night.',\n",
              "       'the food is not tasty at all, not to say its \"real traditional Hunan style\".',\n",
              "       'What did bother me, was the slow service.',\n",
              "       'The flair bartenders are absolutely amazing!',\n",
              "       'Their frozen margaritas are WAY too sugary for my taste.',\n",
              "       'These were so good we ordered them twice.',\n",
              "       'So in a nutshell: 1) The restaraunt smells like a combination of a dirty fish market and a sewer.',\n",
              "       \"My girlfriend's veal was very bad.\",\n",
              "       'Unfortunately, it was not good.',\n",
              "       'I had a pretty satifying experience.',\n",
              "       'Join the club and get awesome offers via email.',\n",
              "       'Perfect for someone (me) who only likes beer ice cold, or in this case, even colder.',\n",
              "       'Bland and flavorless is a good way of describing the barely tepid meat.',\n",
              "       \"The chains, which I'm no fan of, beat this place easily.\",\n",
              "       'The nachos are a MUST HAVE!', 'We will not be coming back.',\n",
              "       \"I don't have very many words to say about this place, but it does everything pretty well.\",\n",
              "       'The staff is super nice and very quick even with the crazy crowds of the downtown juries, lawyers, and court staff.',\n",
              "       'Great atmosphere, friendly and fast service.',\n",
              "       'When I received my Pita it was huge it did have a lot of meat in it so thumbs up there.',\n",
              "       \"Once your food arrives it's meh.\",\n",
              "       \"Paying $7.85 for a hot dog and fries that looks like it came out of a kid's meal at the Wienerschnitzel is not my idea of a good meal.\",\n",
              "       'The classic Maine Lobster Roll was fantastic.',\n",
              "       'My brother in law who works at the mall ate here same day, and guess what he was sick all night too.',\n",
              "       'So good I am going to have to review this place twice - once hereas a tribute to the place and once as a tribute to an event held here last night.',\n",
              "       'The chips and salsa were really good, the salsa was very fresh.',\n",
              "       'This place is great!!!!!!!!!!!!!!', 'Mediocre food.',\n",
              "       \"Once you get inside you'll be impressed with the place.\",\n",
              "       \"I'm super pissd.\", 'And service was super friendly.',\n",
              "       'Why are these sad little vegetables so overcooked?',\n",
              "       'This place was such a nice surprise!',\n",
              "       'They were golden-crispy and delicious.',\n",
              "       'I had high hopes for this place since the burgers are cooked over a charcoal grill, but unfortunately the taste fell flat, way flat.',\n",
              "       'I could eat their bruschetta all day it is devine.',\n",
              "       'Not a single employee came out to see if we were OK or even needed a water refill once they finally served us our food.',\n",
              "       'Lastly, the mozzarella sticks, they were the best thing we ordered.',\n",
              "       'The first time I ever came here I had an amazing experience, I still tell people how awesome the duck was.',\n",
              "       'The server was very negligent of our needs and made us feel very unwelcome... I would not suggest this place!',\n",
              "       'The service was terrible though.',\n",
              "       'This place is overpriced, not consistent with their boba, and it really is OVERPRICED!',\n",
              "       'It was packed!!', 'I love this place.',\n",
              "       'I can say that the desserts were yummy.',\n",
              "       'The food was terrible.',\n",
              "       'The seasonal fruit was fresh white peach puree.',\n",
              "       \"It kept getting worse and worse so now I'm officially done.\",\n",
              "       'This place should honestly be blown up.',\n",
              "       'But I definitely would not eat here again.',\n",
              "       'Do not waste your money here!',\n",
              "       'I love that they put their food in nice plastic containers as opposed to cramming it in little paper takeout boxes.',\n",
              "       'The crêpe was delicate and thin and moist.', 'Awful service.',\n",
              "       \"Won't ever go here again.\", 'Food quality has been horrible.',\n",
              "       'For that price I can think of a few place I would have much rather gone.',\n",
              "       'The service here is fair at best.',\n",
              "       'I do love sushi, but I found Kabuki to be over-priced, over-hip and under-services.',\n",
              "       'Do yourself a favor and stay away from this dish.',\n",
              "       'Very poor service.',\n",
              "       'No one at the table thought the food was above average or worth the wait that we had for it.',\n",
              "       'Best service and food ever, Maria our server was so good and friendly she made our day.',\n",
              "       'They were excellent.',\n",
              "       'I paid the bill but did not tip because I felt the server did a terrible job.',\n",
              "       'Just had lunch here and had a great experience.',\n",
              "       'I have never had such bland food which surprised me considering the article we read focused so much on their spices and flavor.',\n",
              "       'Food is way overpriced and portions are fucking small.',\n",
              "       \"I recently tried Caballero's and I have been back every week since!\",\n",
              "       'for 40 bucks a head, i really expect better food.',\n",
              "       'The food came out at a good pace.',\n",
              "       'I ate there twice on my last visit, and especially enjoyed the salmon salad.',\n",
              "       \"I won't be back.\",\n",
              "       'We could not believe how dirty the oysters were!',\n",
              "       'This place deserves no stars.',\n",
              "       'I would not recommend this place.',\n",
              "       \"In fact I'm going to round up to 4 stars, just because she was so awesome.\",\n",
              "       'To my disbelief, each dish qualified as the worst version of these foods I have ever tasted.',\n",
              "       'Bad day or not, I have a very low tolerance for rude customer service people, it is your job to be nice and polite, wash dishes otherwise!!',\n",
              "       'the potatoes were great and so was the biscuit.',\n",
              "       'I probably would not go here again.',\n",
              "       'So flavorful and has just the perfect amount of heat.',\n",
              "       'The price is reasonable and the service is great.',\n",
              "       'The Wife hated her meal (coconut shrimp), and our friends really did not enjoy their meals, either.',\n",
              "       \"My fella got the huevos rancheros and they didn't look too appealing.\",\n",
              "       'Went in for happy hour, great list of wines.',\n",
              "       'Some may say this buffet is pricey but I think you get what you pay for and this place you are getting quite a lot!',\n",
              "       \"I probably won't be coming back here.\",\n",
              "       \"Worst food/service I've had in a while.\",\n",
              "       'This place is pretty good, nice little vibe in the restaurant.',\n",
              "       'Talk about great customer service of course we will be back.',\n",
              "       'Hot dishes are not hot, cold dishes are close to room temp.I watched staff prepare food with BARE HANDS, no gloves.Everything is deep fried in oil.',\n",
              "       'I love their fries and their beans.',\n",
              "       'Always a pleasure dealing with him.',\n",
              "       \"They have a plethora of salads and sandwiches, and everything I've tried gets my seal of approval.\",\n",
              "       'This place is awesome if you want something light and healthy during the summer.',\n",
              "       'For sushi on the Strip, this is the place to go.',\n",
              "       'The service was great, even the manager came and helped with our table.',\n",
              "       'The feel of the dining room was more college cooking course than high class dining and the service was slow at best.',\n",
              "       \"I started this review with two stars, but I'm editing it to give it only one.\",\n",
              "       \"this is the worst sushi i have ever eat besides Costco's.\",\n",
              "       'All in all an excellent restaurant highlighted by great service, a unique menu, and a beautiful setting.',\n",
              "       'My boyfriend and i sat at the bar and had a completely delightful experience.',\n",
              "       'Weird vibe from owners.', 'There was hardly any meat.',\n",
              "       \"I've had better bagels from the grocery store.\",\n",
              "       'Go To Place for Gyros.',\n",
              "       'I love the owner/chef, his one authentic Japanese cool dude!',\n",
              "       \"Now the burgers aren't as good, the pizza which used to be amazing is doughy and flavorless.\",\n",
              "       'I found a six inch long piece of wire in my salsa.',\n",
              "       'The service was terrible, food was mediocre.',\n",
              "       'We definately enjoyed ourselves.',\n",
              "       'I ordered Albondigas soup - which was just warm - and tasted like tomato soup with frozen meatballs.',\n",
              "       'On three different occasions I asked for well done or medium well, and all three times I got the bloodiest piece of meat on my plate.',\n",
              "       'I had about two bites and refused to eat anymore.',\n",
              "       'The service was extremely slow.',\n",
              "       'After 20 minutes wait, I got a table.',\n",
              "       'Seriously killer hot chai latte.',\n",
              "       'No allergy warnings on the menu, and the waitress had absolutely no clue as to which meals did or did not contain peanuts.',\n",
              "       'My boyfriend tried the Mediterranean Chicken Salad and fell in love.',\n",
              "       'Their rotating beers on tap is also a highlight of this place.',\n",
              "       'Pricing is a bit of a concern at Mellow Mushroom.',\n",
              "       'Worst Thai ever.',\n",
              "       'If you stay in Vegas you must get breakfast here at least once.',\n",
              "       'I want to first say our server was great and we had perfect service.',\n",
              "       'The pizza selections are good.',\n",
              "       'I had strawberry tea, which was good.',\n",
              "       'Highly unprofessional and rude to a loyal patron!',\n",
              "       'Overall, a great experience.', 'Spend your money elsewhere.',\n",
              "       'Their regular toasted bread was equally satisfying with the occasional pats of butter... Mmmm...!',\n",
              "       'The Buffet at Bellagio was far from what I anticipated.',\n",
              "       'And the drinks are WEAK, people!', '-My order was not correct.',\n",
              "       'Also, I feel like the chips are bought, not made in house.',\n",
              "       'After the disappointing dinner we went elsewhere for dessert.',\n",
              "       'The chips and sals a here is amazing!!!!!!!!!!!!!!!!!!!',\n",
              "       \"We won't be returning.\", 'This is my new fav Vegas buffet spot.',\n",
              "       'I seriously cannot believe that the owner has so many unexperienced employees that all are running around like chickens with their heads cut off.',\n",
              "       'Very, very sad.',\n",
              "       'i felt insulted and disrespected, how could you talk and judge another human being like that?',\n",
              "       \"How can you call yourself a steakhouse if you can't properly cook a steak, I don't understand!\",\n",
              "       \"I'm not impressed with the concept or the food.\",\n",
              "       \"The only thing I wasn't too crazy about was their guacamole as I don't like it puréed.\",\n",
              "       'There is really nothing for me at postinos, hope your experience is better',\n",
              "       'I got food poisoning here at the buffet.',\n",
              "       'They brought a fresh batch of fries and I was thinking yay something warm but no!',\n",
              "       'What SHOULD have been a hilarious, yummy Christmas Eve dinner to remember was the biggest fail of the entire trip for us.',\n",
              "       \"Needless to say, I won't be going back anytime soon.\",\n",
              "       'This place is disgusting!',\n",
              "       'Every time I eat here, I see caring teamwork to a professional degree.',\n",
              "       'The RI style calamari was a joke.',\n",
              "       'However, there was so much garlic in the fondue, it was barely edible.',\n",
              "       \"I could barely stomach the meal, but didn't complain because it was a business lunch.\",\n",
              "       'It was so bad, I had lost the heart to finish it.',\n",
              "       'It also took her forever to bring us the check when we asked for it.',\n",
              "       \"We aren't ones to make a scene at restaurants but I just don't get it...definitely lost the love after this one!\",\n",
              "       'Disappointing experience.',\n",
              "       \"The food is about on par with Denny's, which is to say, not good at all.\",\n",
              "       'If you want to wait for mediocre food and downright terrible service, then this is the place for you.',\n",
              "       'WAAAAAAyyyyyyyyyy over rated is all I am saying.',\n",
              "       \"We won't be going back.\",\n",
              "       \"The place was fairly clean but the food simply wasn't worth it.\",\n",
              "       'This place lacked style!!',\n",
              "       'The sangria was about half of a glass wine full and was $12, ridiculous.',\n",
              "       \"Don't bother coming here.\",\n",
              "       'The meat was pretty dry, I had the sliced brisket and pulled pork.',\n",
              "       \"The building itself seems pretty neat, the bathroom is pretty trippy, but I wouldn't eat here again.\",\n",
              "       'It was equally awful.', 'Probably not in a hurry to go back.',\n",
              "       'very slow at seating even with reservation.',\n",
              "       'Not good by any stretch of the imagination.',\n",
              "       'The cashew cream sauce was bland and the vegetables were undercooked.',\n",
              "       'The chipolte ranch dipping sause was tasteless, seemed thin and watered down with no heat.',\n",
              "       'It was a bit too sweet, not really spicy enough, and lacked flavor.',\n",
              "       'I was VERY disappointed!!',\n",
              "       'This place is horrible and way overpriced.',\n",
              "       \"Maybe it's just their Vegetarian fare, but I've been twice and I thought it was average at best.\",\n",
              "       \"It wasn't busy at all and now we know why.\",\n",
              "       'The tables outside are also dirty a lot of the time and the workers are not always friendly and helpful with the menu.',\n",
              "       'The ambiance here did not feel like a buffet setting, but more of a douchey indoor garden for tea and biscuits.',\n",
              "       'Con: spotty service.',\n",
              "       'The fries were not hot, and neither was my burger.',\n",
              "       'But then they came back cold.',\n",
              "       'Then our food came out, disappointment ensued.',\n",
              "       'The real disappointment was our waiter.',\n",
              "       'My husband said she was very rude... did not even apologize for the bad food or anything.',\n",
              "       'The only reason to eat here would be to fill up before a night of binge drinking just to get some carbs in your stomach.',\n",
              "       'Insults, profound deuchebaggery, and had to go outside for a smoke break while serving just to solidify it.',\n",
              "       \"If someone orders two tacos don't' you think it may be part of customer service to ask if it is combo or ala cart?\",\n",
              "       'She was quite disappointed although some blame needs to be placed at her door.',\n",
              "       \"After all the rave reviews I couldn't wait to eat here......what a disappointment!\",\n",
              "       'Del Taco is pretty nasty and should be avoided if possible.',\n",
              "       \"It's NOT hard to make a decent hamburger.\",\n",
              "       \"But I don't like it.\", 'Hell no will I go back',\n",
              "       \"We've have gotten a much better service from the pizza place next door than the services we received from this restaurant.\",\n",
              "       'I don\\'t know what the big deal is about this place, but I won\\'t be back \"ya\\'all\".',\n",
              "       'I immediately said I wanted to talk to the manager but I did not want to talk to the guy who was doing shots of fireball behind the bar.',\n",
              "       \"The ambiance isn't much better.\",\n",
              "       'Unfortunately, it only set us up for disapppointment with our entrees.',\n",
              "       \"The food wasn't good.\",\n",
              "       'Your servers suck, wait, correction, our server Heimer sucked.',\n",
              "       'What happened next was pretty....off putting.',\n",
              "       \"too bad cause I know it's family owned, I really wanted to like this place.\",\n",
              "       'Overpriced for what you are getting.',\n",
              "       'I vomited in the bathroom mid lunch.',\n",
              "       'I kept looking at the time and it had soon become 35 minutes, yet still no food.',\n",
              "       'I have been to very few places to eat that under no circumstances would I ever return to, and this tops the list.',\n",
              "       \"We started with the tuna sashimi which was brownish in color and obviously wasn't fresh.\",\n",
              "       'Food was below average.',\n",
              "       'It sure does beat the nachos at the movies but I would expect a little bit more coming from a restaurant.',\n",
              "       'All in all, Ha Long Bay was a bit of a flop.',\n",
              "       'The problem I have is that they charge $11.99 for a sandwich that is no bigger than a Subway sub (which offers better and more amount of vegetables).',\n",
              "       'Shrimp- When I unwrapped it (I live only 1/2 a mile from Brushfire) it was literally ice cold.',\n",
              "       'It lacked flavor, seemed undercooked, and dry.',\n",
              "       \"It really is impressive that the place hasn't closed down.\",\n",
              "       'I would avoid this place if you are staying in the Mirage.',\n",
              "       'The refried beans that came with my meal were dried out and crusty and the food was bland.',\n",
              "       'Spend your money and time some place else.',\n",
              "       'A lady at the table next to us found a live green caterpillar In her salad.',\n",
              "       'the presentation of the food was awful.',\n",
              "       \"I can't tell you how disappointed I was.\",\n",
              "       'I think food should have flavor and texture and both were lacking.',\n",
              "       'Appetite instantly gone.',\n",
              "       'Overall I was not impressed and would not go back.',\n",
              "       \"The whole experience was underwhelming, and I think we'll just go to Ninja Sushi next time.\",\n",
              "       \"Then, as if I hadn't wasted enough of my life there, they poured salt in the wound by drawing out the time it took to bring the check.\"],\n",
              "      dtype=object)"
            ]
          },
          "metadata": {},
          "execution_count": 8
        }
      ]
    },
    {
      "cell_type": "code",
      "source": [
        "y"
      ],
      "metadata": {
        "colab": {
          "base_uri": "https://localhost:8080/"
        },
        "id": "BjYzc_MuXGvE",
        "outputId": "9e76287d-3d7c-4f63-89bc-2fb7d886252e"
      },
      "execution_count": 9,
      "outputs": [
        {
          "output_type": "execute_result",
          "data": {
            "text/plain": [
              "array([1, 0, 0, 1, 1, 0, 0, 0, 1, 1, 1, 0, 0, 1, 0, 0, 1, 0, 0, 0, 0, 1,\n",
              "       1, 1, 1, 1, 0, 1, 0, 0, 1, 0, 1, 0, 1, 1, 1, 0, 1, 0, 1, 0, 0, 1,\n",
              "       0, 1, 0, 1, 1, 1, 1, 1, 1, 0, 1, 1, 0, 0, 1, 0, 0, 1, 1, 1, 1, 1,\n",
              "       1, 1, 0, 1, 1, 1, 0, 0, 0, 0, 0, 1, 1, 0, 0, 0, 0, 1, 0, 1, 0, 1,\n",
              "       1, 1, 0, 1, 0, 1, 0, 0, 1, 1, 0, 1, 1, 1, 1, 1, 1, 1, 1, 1, 1, 1,\n",
              "       0, 0, 1, 1, 1, 1, 0, 0, 0, 0, 0, 0, 1, 1, 1, 0, 0, 1, 0, 1, 0, 1,\n",
              "       1, 0, 1, 1, 1, 1, 0, 1, 0, 0, 0, 0, 1, 1, 0, 0, 0, 0, 1, 1, 0, 0,\n",
              "       1, 1, 1, 1, 1, 0, 0, 1, 1, 0, 1, 1, 1, 0, 0, 1, 0, 1, 1, 1, 1, 0,\n",
              "       0, 1, 1, 0, 0, 0, 0, 0, 1, 1, 0, 1, 1, 1, 1, 1, 0, 1, 0, 1, 0, 0,\n",
              "       1, 1, 1, 1, 0, 1, 1, 1, 0, 0, 0, 1, 0, 0, 1, 0, 1, 1, 0, 1, 0, 1,\n",
              "       0, 0, 0, 0, 0, 1, 1, 1, 0, 1, 1, 0, 1, 0, 1, 0, 0, 1, 0, 1, 0, 1,\n",
              "       0, 0, 0, 0, 1, 1, 1, 0, 1, 0, 1, 0, 1, 1, 1, 0, 1, 0, 1, 0, 1, 1,\n",
              "       1, 1, 0, 1, 1, 0, 1, 1, 1, 1, 1, 0, 1, 1, 0, 0, 1, 0, 0, 0, 1, 1,\n",
              "       0, 0, 1, 0, 0, 0, 1, 0, 1, 1, 0, 1, 0, 1, 1, 0, 0, 0, 1, 0, 0, 0,\n",
              "       1, 1, 1, 0, 1, 0, 1, 0, 0, 1, 1, 1, 0, 0, 1, 1, 1, 1, 1, 1, 0, 0,\n",
              "       0, 1, 1, 0, 1, 1, 0, 0, 1, 0, 0, 1, 1, 1, 0, 1, 1, 1, 1, 1, 0, 0,\n",
              "       1, 0, 1, 1, 0, 1, 1, 1, 0, 1, 1, 0, 1, 0, 0, 1, 1, 1, 0, 0, 1, 1,\n",
              "       0, 1, 0, 1, 0, 0, 0, 1, 1, 0, 0, 0, 1, 0, 0, 1, 1, 1, 1, 1, 1, 1,\n",
              "       0, 1, 1, 1, 0, 0, 0, 1, 1, 0, 1, 1, 1, 0, 1, 1, 0, 1, 0, 0, 0, 1,\n",
              "       1, 1, 1, 0, 0, 0, 0, 1, 1, 0, 0, 1, 0, 1, 1, 0, 1, 0, 1, 1, 1, 1,\n",
              "       0, 1, 1, 0, 1, 1, 0, 0, 1, 1, 0, 1, 0, 0, 0, 0, 1, 1, 1, 1, 0, 1,\n",
              "       1, 0, 1, 1, 0, 0, 1, 1, 1, 0, 1, 0, 0, 0, 1, 1, 1, 1, 0, 1, 0, 0,\n",
              "       1, 1, 1, 0, 0, 1, 1, 1, 0, 1, 1, 0, 1, 1, 1, 1, 1, 0, 1, 1, 1, 0,\n",
              "       0, 0, 0, 0, 1, 1, 1, 1, 1, 1, 0, 1, 0, 1, 1, 1, 0, 0, 1, 0, 0, 1,\n",
              "       1, 1, 1, 1, 1, 1, 0, 1, 0, 1, 0, 1, 1, 0, 1, 0, 0, 1, 1, 0, 0, 1,\n",
              "       1, 1, 1, 0, 0, 0, 0, 0, 1, 1, 0, 0, 1, 1, 1, 0, 0, 1, 0, 0, 0, 0,\n",
              "       0, 1, 1, 0, 0, 1, 1, 1, 0, 0, 0, 1, 0, 1, 1, 0, 1, 0, 1, 1, 1, 0,\n",
              "       0, 1, 0, 1, 1, 0, 1, 0, 1, 1, 1, 1, 1, 0, 1, 0, 0, 0, 0, 0, 1, 1,\n",
              "       0, 0, 1, 0, 0, 0, 1, 0, 1, 1, 0, 0, 0, 1, 1, 1, 0, 1, 0, 1, 0, 1,\n",
              "       0, 1, 1, 0, 1, 0, 0, 0, 0, 0, 1, 0, 0, 1, 1, 0, 1, 0, 1, 1, 1, 1,\n",
              "       1, 1, 1, 1, 1, 1, 1, 1, 1, 0, 0, 1, 0, 1, 1, 1, 1, 0, 1, 0, 1, 0,\n",
              "       1, 1, 1, 0, 1, 1, 1, 1, 1, 0, 1, 1, 1, 0, 0, 0, 0, 0, 0, 0, 1, 1,\n",
              "       1, 0, 1, 0, 1, 0, 1, 0, 1, 0, 1, 1, 1, 0, 1, 0, 1, 1, 1, 1, 1, 1,\n",
              "       1, 0, 1, 1, 0, 0, 1, 1, 1, 0, 0, 1, 1, 1, 1, 0, 0, 0, 0, 1, 1, 1,\n",
              "       0, 1, 1, 1, 1, 1, 0, 1, 0, 1, 1, 0, 1, 0, 0, 0, 1, 0, 1, 1, 1, 1,\n",
              "       0, 1, 0, 0, 1, 0, 1, 0, 0, 0, 1, 1, 1, 0, 0, 1, 0, 1, 1, 1, 1, 0,\n",
              "       0, 1, 0, 1, 1, 1, 0, 1, 0, 1, 0, 1, 1, 0, 1, 0, 1, 1, 0, 0, 0, 0,\n",
              "       1, 1, 0, 1, 0, 0, 0, 0, 1, 1, 0, 0, 0, 0, 0, 0, 0, 0, 0, 1, 1, 0,\n",
              "       1, 0, 0, 1, 0, 1, 1, 0, 0, 0, 0, 1, 0, 0, 1, 0, 1, 1, 0, 0, 1, 1,\n",
              "       0, 0, 1, 1, 0, 1, 1, 1, 1, 1, 1, 0, 0, 0, 1, 1, 0, 0, 0, 1, 1, 0,\n",
              "       0, 0, 1, 0, 0, 0, 0, 0, 1, 0, 1, 1, 0, 0, 1, 1, 1, 1, 0, 1, 0, 1,\n",
              "       0, 0, 0, 0, 0, 1, 0, 1, 0, 0, 0, 0, 0, 0, 0, 0, 0, 0, 0, 0, 1, 0,\n",
              "       0, 0, 0, 0, 0, 0, 0, 0, 0, 0, 0, 0, 0, 0, 0, 0, 0, 0, 0, 0, 0, 0,\n",
              "       0, 0, 0, 0, 0, 0, 0, 0, 0, 0, 0, 0, 0, 0, 0, 0, 0, 0, 0, 0, 0, 0,\n",
              "       0, 0, 0, 0, 0, 0, 0, 0, 0, 0, 0, 0, 0, 0, 0, 0, 0, 0, 0, 0, 0, 0,\n",
              "       0, 0, 0, 0, 0, 0, 0, 0, 0, 0])"
            ]
          },
          "metadata": {},
          "execution_count": 9
        }
      ]
    },
    {
      "cell_type": "code",
      "source": [
        "# Visualizing the number of reviews using the count plot from seaborn library\n",
        "import seaborn as sns\n",
        "sns.countplot(x='Liked',data=dataset)"
      ],
      "metadata": {
        "colab": {
          "base_uri": "https://localhost:8080/",
          "height": 297
        },
        "id": "UTRvx5kyXKSO",
        "outputId": "00399403-6c03-4763-e814-4e78f6b66cee"
      },
      "execution_count": 10,
      "outputs": [
        {
          "output_type": "execute_result",
          "data": {
            "text/plain": [
              "<matplotlib.axes._subplots.AxesSubplot at 0x7fc520be7ed0>"
            ]
          },
          "metadata": {},
          "execution_count": 10
        },
        {
          "output_type": "display_data",
          "data": {
            "image/png": "[encoded data removed]",
            "text/plain": [
              "<Figure size 432x288 with 1 Axes>"
            ]
          },
          "metadata": {
            "needs_background": "light"
          }
        }
      ]
    },
    {
      "cell_type": "code",
      "source": [
        "# Creating 'Text length' column to see if there are some valuable texts\n",
        "dataset['Text length']=dataset['Review'].apply(len)"
      ],
      "metadata": {
        "id": "z8bdNcINXOKD"
      },
      "execution_count": 11,
      "outputs": []
    },
    {
      "cell_type": "code",
      "source": [
        "# Visualizing the length of text using FacetGrid from Seaborn\n",
        "graph = sns.FacetGrid(data=dataset,col='Liked')\n",
        "graph.map(plt.hist,'Text length')\n",
        "# From the graph it seems the lenght between liked and disliked reviews is similar"
      ],
      "metadata": {
        "colab": {
          "base_uri": "https://localhost:8080/",
          "height": 243
        },
        "id": "_U0vOl5eXQBu",
        "outputId": "af6580e2-d241-4e7a-c556-a4ae68a36e9c"
      },
      "execution_count": 12,
      "outputs": [
        {
          "output_type": "execute_result",
          "data": {
            "text/plain": [
              "<seaborn.axisgrid.FacetGrid at 0x7fc51f2e9a50>"
            ]
          },
          "metadata": {},
          "execution_count": 12
        },
        {
          "output_type": "display_data",
          "data": {
            "image/png": "[encoded data removed]",
            "text/plain": [
              "<Figure size 432x216 with 2 Axes>"
            ]
          },
          "metadata": {
            "needs_background": "light"
          }
        }
      ]
    },
    {
      "cell_type": "code",
      "source": [
        "# Creating a boxplot comparing the text length with the number of likes and dislikes\n",
        "sns.boxplot(x='Liked',y='Text length',data=dataset)"
      ],
      "metadata": {
        "colab": {
          "base_uri": "https://localhost:8080/",
          "height": 297
        },
        "id": "f_Laoh1jXTfu",
        "outputId": "64b9d673-1676-45e6-9452-cbc940c5691c"
      },
      "execution_count": 13,
      "outputs": [
        {
          "output_type": "execute_result",
          "data": {
            "text/plain": [
              "<matplotlib.axes._subplots.AxesSubplot at 0x7fc516598f10>"
            ]
          },
          "metadata": {},
          "execution_count": 13
        },
        {
          "output_type": "display_data",
          "data": {
            "image/png": "[encoded data removed]",
            "text/plain": [
              "<Figure size 432x288 with 1 Axes>"
            ]
          },
          "metadata": {
            "needs_background": "light"
          }
        }
      ]
    },
    {
      "cell_type": "code",
      "source": [
        "# Importing natural language tool kit\n",
        "import nltk\n",
        "# Downloading stopwords and wordnet for the lemmatizer model\n",
        "nltk.download('stopwords')\n",
        "nltk.download('wordnet')"
      ],
      "metadata": {
        "colab": {
          "base_uri": "https://localhost:8080/"
        },
        "id": "_PnhtVMHXVis",
        "outputId": "233d2f11-d252-4624-8bcc-bd746dbc853e"
      },
      "execution_count": 14,
      "outputs": [
        {
          "output_type": "stream",
          "name": "stdout",
          "text": [
            "[nltk_data] Downloading package stopwords to /root/nltk_data...\n",
            "[nltk_data]   Unzipping corpora/stopwords.zip.\n",
            "[nltk_data] Downloading package wordnet to /root/nltk_data...\n",
            "[nltk_data]   Unzipping corpora/wordnet.zip.\n"
          ]
        },
        {
          "output_type": "execute_result",
          "data": {
            "text/plain": [
              "True"
            ]
          },
          "metadata": {},
          "execution_count": 14
        }
      ]
    },
    {
      "cell_type": "code",
      "source": [
        "# To clean the data\n",
        "import re\n",
        "\n",
        "# To remove stopwords\n",
        "from nltk.corpus import stopwords\n",
        "\n",
        "# For lemmatization\n",
        "from nltk.stem import WordNetLemmatizer"
      ],
      "metadata": {
        "id": "waHKyXc2XXHI"
      },
      "execution_count": 15,
      "outputs": []
    },
    {
      "cell_type": "code",
      "source": [
        "# Initializing an empty array to append the clean text\n",
        "corpus = []\n",
        "\n",
        "# Cleaning 1000 rows of reviews\n",
        "for i in range(0,1000):\n",
        "  review = re.sub('[^a-zA-Z]',' ',dataset['Review'][i])\n",
        "  # Converting all the texts to lower case\n",
        "  review = review.lower()\n",
        "  # Split or tokenize the text\n",
        "  review = review.split()\n",
        "  # Creating Lemmatizer object to take main stem of each word\n",
        "  lemmatizer = WordNetLemmatizer()\n",
        "  # Remove all the stopwords found in the sentence and also do lemmatization\n",
        "  review = [lemmatizer.lemmatize(word) for word in review if not word in set(stopwords.words('english'))]\n",
        "  # Rejoin all the stem text in the sentence to create them back into the string by removing the tokenization\n",
        "  review = ' '.join(review)\n",
        "  # Append each string to create an array of clean text\n",
        "  corpus.append(review)\n",
        "# Print the text\n",
        "corpus"
      ],
      "metadata": {
        "colab": {
          "base_uri": "https://localhost:8080/"
        },
        "id": "27QriHRfXZC4",
        "outputId": "61c28f99-f60f-4535-eff4-15282bfdc8aa"
      },
      "execution_count": 16,
      "outputs": [
        {
          "output_type": "execute_result",
          "data": {
            "text/plain": [
              "['wow loved place',\n",
              " 'crust good',\n",
              " 'tasty texture nasty',\n",
              " 'stopped late may bank holiday rick steve recommendation loved',\n",
              " 'selection menu great price',\n",
              " 'getting angry want damn pho',\n",
              " 'honeslty taste fresh',\n",
              " 'potato like rubber could tell made ahead time kept warmer',\n",
              " 'fry great',\n",
              " 'great touch',\n",
              " 'service prompt',\n",
              " 'would go back',\n",
              " 'cashier care ever say still ended wayyy overpriced',\n",
              " 'tried cape cod ravoli chicken cranberry mmmm',\n",
              " 'disgusted pretty sure human hair',\n",
              " 'shocked sign indicate cash',\n",
              " 'highly recommended',\n",
              " 'waitress little slow service',\n",
              " 'place worth time let alone vega',\n",
              " 'like',\n",
              " 'burrittos blah',\n",
              " 'food amazing',\n",
              " 'service also cute',\n",
              " 'could care le interior beautiful',\n",
              " 'performed',\n",
              " 'right red velvet cake ohhh stuff good',\n",
              " 'never brought salad asked',\n",
              " 'hole wall great mexican street taco friendly staff',\n",
              " 'took hour get food table restaurant food luke warm sever running around like totally overwhelmed',\n",
              " 'worst salmon sashimi',\n",
              " 'also combo like burger fry beer decent deal',\n",
              " 'like final blow',\n",
              " 'found place accident could happier',\n",
              " 'seems like good quick place grab bite familiar pub food favor look elsewhere',\n",
              " 'overall like place lot',\n",
              " 'redeeming quality restaurant inexpensive',\n",
              " 'ample portion good price',\n",
              " 'poor service waiter made feel like stupid every time came table',\n",
              " 'first visit hiro delight',\n",
              " 'service suck',\n",
              " 'shrimp tender moist',\n",
              " 'deal good enough would drag establishment',\n",
              " 'hard judge whether side good grossed melted styrofoam want eat fear getting sick',\n",
              " 'positive note server attentive provided great service',\n",
              " 'frozen puck disgust worst people behind register',\n",
              " 'thing like prime rib dessert section',\n",
              " 'bad food damn generic',\n",
              " 'burger good beef cooked right',\n",
              " 'want sandwich go firehouse',\n",
              " 'side greek salad greek dressing tasty pita hummus refreshing',\n",
              " 'ordered duck rare pink tender inside nice char outside',\n",
              " 'came running u realized husband left sunglass table',\n",
              " 'chow mein good',\n",
              " 'horrible attitude towards customer talk one customer enjoy food',\n",
              " 'portion huge',\n",
              " 'loved friendly server great food wonderful imaginative menu',\n",
              " 'heart attack grill downtown vega absolutely flat lined excuse restaurant',\n",
              " 'much seafood like string pasta bottom',\n",
              " 'salad right amount sauce power scallop perfectly cooked',\n",
              " 'ripped banana ripped petrified tasteless',\n",
              " 'least think refill water struggle wave minute',\n",
              " 'place receives star appetizer',\n",
              " 'cocktail handmade delicious',\n",
              " 'definitely go back',\n",
              " 'glad found place',\n",
              " 'great food service huge portion give military discount',\n",
              " 'always great time do gringo',\n",
              " 'update went back second time still amazing',\n",
              " 'got food apparently never heard salt batter fish chewy',\n",
              " 'great way finish great',\n",
              " 'deal included tasting drink jeff went beyond expected',\n",
              " 'really really good rice time',\n",
              " 'service meh',\n",
              " 'took min get milkshake nothing chocolate milk',\n",
              " 'guess known place would suck inside excalibur use common sense',\n",
              " 'scallop dish quite appalling value well',\n",
              " 'time bad customer service',\n",
              " 'sweet potato fry good seasoned well',\n",
              " 'today second time lunch buffet pretty good',\n",
              " 'much good food vega feel cheated wasting eating opportunity going rice company',\n",
              " 'coming like experiencing underwhelming relationship party wait person ask break',\n",
              " 'walked place smelled like old grease trap others eating',\n",
              " 'turkey roast beef bland',\n",
              " 'place',\n",
              " 'pan cake everyone raving taste like sugary disaster tailored palate six year old',\n",
              " 'love pho spring roll oh yummy try',\n",
              " 'poor batter meat ratio made chicken tender unsatisfying',\n",
              " 'say food amazing',\n",
              " 'omelet die',\n",
              " 'everything fresh delicious',\n",
              " 'summary largely disappointing dining experience',\n",
              " 'like really sexy party mouth outrageously flirting hottest person party',\n",
              " 'never hard rock casino never ever step forward',\n",
              " 'best breakfast buffet',\n",
              " 'say bye bye tip lady',\n",
              " 'never go',\n",
              " 'back',\n",
              " 'food arrived quickly',\n",
              " 'good',\n",
              " 'side cafe serf really good food',\n",
              " 'server fantastic found wife love roasted garlic bone marrow added extra meal another marrow go',\n",
              " 'good thing waiter helpful kept bloddy mary coming',\n",
              " 'best buffet town price cannot beat',\n",
              " 'loved mussel cooked wine reduction duck tender potato dish delicious',\n",
              " 'one better buffet',\n",
              " 'went tigerlilly fantastic afternoon',\n",
              " 'food delicious bartender attentive personable got great deal',\n",
              " 'ambience wonderful music playing',\n",
              " 'go back next trip',\n",
              " 'sooooo good',\n",
              " 'real sushi lover let honest yama good',\n",
              " 'least min passed u ordering food arriving busy',\n",
              " 'really fantastic thai restaurant definitely worth visit',\n",
              " 'nice spicy tender',\n",
              " 'good price',\n",
              " 'check',\n",
              " 'pretty gross',\n",
              " 'better atmosphere',\n",
              " 'kind hard mess steak',\n",
              " 'although much liked look sound place actual experience bit disappointing',\n",
              " 'know place managed served blandest food ever eaten preparing indian cuisine',\n",
              " 'worst service boot least worry',\n",
              " 'service fine waitress friendly',\n",
              " 'guy steak steak loving son steak best worst place said best steak ever eaten',\n",
              " 'thought venture away get good sushi place really hit spot night',\n",
              " 'host staff lack better word bitch',\n",
              " 'bland liking place number reason want waste time bad reviewing leave',\n",
              " 'phenomenal food service ambiance',\n",
              " 'return',\n",
              " 'definitely worth venturing strip pork belly return next time vega',\n",
              " 'place way overpriced mediocre food',\n",
              " 'penne vodka excellent',\n",
              " 'good selection food including massive meatloaf sandwich crispy chicken wrap delish tuna melt tasty burger',\n",
              " 'management rude',\n",
              " 'delicious nyc bagel good selection cream cheese real lox caper even',\n",
              " 'great subway fact good come every subway meet expectation',\n",
              " 'seriously solid breakfast',\n",
              " 'one best bar food vega',\n",
              " 'extremely rude really many restaurant would love dine weekend vega',\n",
              " 'drink never empty made really great menu suggestion',\n",
              " '',\n",
              " 'waiter helpful friendly rarely checked u',\n",
              " 'husband ate lunch disappointed food service',\n",
              " 'red curry much bamboo shoot tasty',\n",
              " 'nice blanket moz top feel like done cover subpar food',\n",
              " 'bathroom clean place well decorated',\n",
              " 'menu always changing food quality going service extremely slow',\n",
              " 'service little slow considering served people server food coming slow pace',\n",
              " 'give thumb',\n",
              " 'watched waiter pay lot attention table ignore u',\n",
              " 'fianc came middle day greeted seated right away',\n",
              " 'great restaurant mandalay bay',\n",
              " 'waited forty five minute vain',\n",
              " 'crostini came salad stale',\n",
              " 'highlight great quality nigiri',\n",
              " 'staff friendly joint always clean',\n",
              " 'different cut piece day still wonderful tender well well flavored',\n",
              " 'ordered voodoo pasta first time really excellent pasta since going gluten free several year ago',\n",
              " 'place good',\n",
              " 'unfortunately must hit bakery leftover day everything ordered stale',\n",
              " 'came back today since relocated still impressed',\n",
              " 'seated immediately',\n",
              " 'menu diverse reasonably priced',\n",
              " 'avoid cost',\n",
              " 'restaurant always full never wait',\n",
              " 'delicious',\n",
              " 'place hand one best place eat phoenix metro area',\n",
              " 'go looking good food',\n",
              " 'never treated bad',\n",
              " 'bacon hella salty',\n",
              " 'also ordered spinach avocado salad ingredient sad dressing literally zero taste',\n",
              " 'really vega fine dining used right menu handed lady price listed',\n",
              " 'waitress friendly',\n",
              " 'lordy khao soi dish missed curry lover',\n",
              " 'everything menu terrific also thrilled made amazing accommodation vegetarian daughter',\n",
              " 'perhaps caught night judging review inspired go back',\n",
              " 'service leaf lot desired',\n",
              " 'atmosphere modern hip maintaining touch coziness',\n",
              " 'weekly haunt definitely place come back every',\n",
              " 'literally sat minute one asking take order',\n",
              " 'burger absolutely flavor meat totally bland burger overcooked charcoal flavor',\n",
              " 'also decided send back waitress looked like verge heart attack',\n",
              " 'dressed treated rudely',\n",
              " 'probably dirt',\n",
              " 'love place hit spot want something healthy lacking quantity flavor',\n",
              " 'ordered lemon raspberry ice cocktail also incredible',\n",
              " 'food sucked expected sucked could imagined',\n",
              " 'interesting decor',\n",
              " 'really like crepe station',\n",
              " 'also served hot bread butter home made potato chip bacon bit top original good',\n",
              " 'watch preparing delicious food',\n",
              " 'egg roll fantastic',\n",
              " 'order arrived one gyro missing',\n",
              " 'salad wing ice cream dessert left feeling quite satisfied',\n",
              " 'really sure joey voted best hot dog valley reader phoenix magazine',\n",
              " 'best place go tasty bowl pho',\n",
              " 'live music friday totally blow',\n",
              " 'never insulted felt disrespected',\n",
              " 'friendly staff',\n",
              " 'worth drive',\n",
              " 'heard good thing place exceeding every hope could dreamed',\n",
              " 'food great serivce',\n",
              " 'warm beer help',\n",
              " 'great brunch spot',\n",
              " 'service friendly inviting',\n",
              " 'good lunch spot',\n",
              " 'lived since first last time stepped foot place',\n",
              " 'worst experience ever',\n",
              " 'must night place',\n",
              " 'side delish mixed mushroom yukon gold puree white corn beateous',\n",
              " 'bug never showed would given sure side wall bug climbing kitchen',\n",
              " 'minute waiting salad realized coming time soon',\n",
              " 'friend loved salmon tartar',\n",
              " 'go back',\n",
              " 'extremely tasty',\n",
              " 'waitress good though',\n",
              " 'soggy good',\n",
              " 'jamaican mojitos delicious',\n",
              " 'small worth price',\n",
              " 'food rich order accordingly',\n",
              " 'shower area outside rinse take full shower unless mind nude everyone see',\n",
              " 'service bit lacking',\n",
              " 'lobster bisque bussell sprout risotto filet needed salt pepper course none table',\n",
              " 'hopefully bodes going business someone cook come',\n",
              " 'either cold enough flavor bad',\n",
              " 'loved bacon wrapped date',\n",
              " 'unbelievable bargain',\n",
              " 'folk otto always make u feel welcome special',\n",
              " 'main also uninspired',\n",
              " 'place first pho amazing',\n",
              " 'wonderful experience made place must stop whenever town',\n",
              " 'food bad enough enjoy dealing world worst annoying drunk people',\n",
              " 'fun chef',\n",
              " 'ordered double cheeseburger got single patty falling apart picture uploaded yeah still suck',\n",
              " 'great place couple drink watch sporting event wall covered tv',\n",
              " 'possible give zero star',\n",
              " 'description said yum yum sauce another said eel sauce yet another said spicy mayo well none roll sauce',\n",
              " 'say would hardest decision honestly dish taste supposed taste amazing',\n",
              " 'rolled eye may stayed sure go back try',\n",
              " 'everyone attentive providing excellent customer service',\n",
              " 'horrible waste time money',\n",
              " 'dish quite flavourful',\n",
              " 'time side restaurant almost empty excuse',\n",
              " 'busy either also building freezing cold',\n",
              " 'like reviewer said pay eat place',\n",
              " 'drink took close minute come one point',\n",
              " 'seriously flavorful delight folk',\n",
              " 'much better ayce sushi place went vega',\n",
              " 'lighting dark enough set mood',\n",
              " 'based sub par service received effort show gratitude business going back',\n",
              " 'owner really great people',\n",
              " 'nothing privileged working eating',\n",
              " 'greek dressing creamy flavorful',\n",
              " 'overall think would take parent place made similar complaint silently felt',\n",
              " 'pizza good peanut sauce tasty',\n",
              " 'table service pretty fast',\n",
              " 'fantastic service',\n",
              " 'well would given godfather zero star possible',\n",
              " 'know make',\n",
              " 'tough short flavor',\n",
              " 'hope place stick around',\n",
              " 'bar vega ever recall charged tap water',\n",
              " 'restaurant atmosphere exquisite',\n",
              " 'good service clean inexpensive boot',\n",
              " 'seafood fresh generous portion',\n",
              " 'plus buck',\n",
              " 'service par either',\n",
              " 'thus far visited twice food absolutely delicious time',\n",
              " 'good year ago',\n",
              " 'self proclaimed coffee cafe wildly disappointed',\n",
              " 'veggitarian platter world',\n",
              " 'cant go wrong food',\n",
              " 'beat',\n",
              " 'stopped place madison ironman friendly kind staff',\n",
              " 'chef friendly good job',\n",
              " 'better dedicated boba tea spot even jenni pho',\n",
              " 'liked patio service outstanding',\n",
              " 'goat taco skimp meat wow flavor',\n",
              " 'think',\n",
              " 'mac salad pretty bland getting',\n",
              " 'went bachi burger friend recommendation disappointed',\n",
              " 'service stink',\n",
              " 'waited waited',\n",
              " 'place quality sushi quality restaurant',\n",
              " 'would definitely recommend wing well pizza',\n",
              " 'great pizza salad',\n",
              " 'thing went wrong burned saganaki',\n",
              " 'waited hour breakfast could done time better home',\n",
              " 'place amazing',\n",
              " 'hate disagree fellow yelpers husband disappointed place',\n",
              " 'waited hour never got either pizza many around u came later',\n",
              " 'know slow',\n",
              " 'staff great food delish incredible beer selection',\n",
              " 'live neighborhood disappointed back convenient location',\n",
              " 'know pulled pork could soooo delicious',\n",
              " 'get incredibly fresh fish prepared care',\n",
              " 'go gave star rating please know third time eating bachi burger writing review',\n",
              " 'love fact everything menu worth',\n",
              " 'never dining place',\n",
              " 'food excellent service good',\n",
              " 'good beer drink selection good food selection',\n",
              " 'please stay away shrimp stir fried noodle',\n",
              " 'potato chip order sad could probably count many chip box probably around',\n",
              " 'food really boring',\n",
              " 'good service check',\n",
              " 'greedy corporation never see another dime',\n",
              " 'never ever go back',\n",
              " 'much like go back get passed atrocious service never return',\n",
              " 'summer dine charming outdoor patio delightful',\n",
              " 'expect good',\n",
              " 'fantastic food',\n",
              " 'ordered toasted english muffin came untoasted',\n",
              " 'food good',\n",
              " 'never going back',\n",
              " 'great food price high quality house made',\n",
              " 'bus boy hand rude',\n",
              " 'point friend basically figured place joke mind making publicly loudly known',\n",
              " 'back good bbq lighter fare reasonable pricing tell public back old way',\n",
              " 'considering two u left full happy go wrong',\n",
              " 'bread made house',\n",
              " 'downside service',\n",
              " 'also fry without doubt worst fry ever',\n",
              " 'service exceptional food good review',\n",
              " 'couple month later returned amazing meal',\n",
              " 'favorite place town shawarrrrrrma',\n",
              " 'black eyed pea sweet potato unreal',\n",
              " 'disappointed',\n",
              " 'could serve vinaigrette may make better overall dish still good',\n",
              " 'go far many place never seen restaurant serf egg breakfast especially',\n",
              " 'mom got home immediately got sick bite salad',\n",
              " 'server pleasant deal always honor pizza hut coupon',\n",
              " 'truly unbelievably good glad went back',\n",
              " 'fantastic service pleased atmosphere',\n",
              " 'everything gross',\n",
              " 'love place',\n",
              " 'great service food',\n",
              " 'first bathroom location dirty seat cover replenished plain yucky',\n",
              " 'burger got gold standard burger kind disappointed',\n",
              " 'omg food delicioso',\n",
              " 'nothing authentic place',\n",
              " 'spaghetti nothing special whatsoever',\n",
              " 'dish salmon best great',\n",
              " 'vegetable fresh sauce feel like authentic thai',\n",
              " 'worth driving tucson',\n",
              " 'selection probably worst seen vega none',\n",
              " 'pretty good beer selection',\n",
              " 'place like chipotle better',\n",
              " 'classy warm atmosphere fun fresh appetizer succulent steak baseball steak',\n",
              " 'star brick oven bread app',\n",
              " 'eaten multiple time time food delicious',\n",
              " 'sat another ten minute finally gave left',\n",
              " 'terrible',\n",
              " 'everyone treated equally special',\n",
              " 'take min pancake egg',\n",
              " 'delicious',\n",
              " 'good side staff genuinely pleasant enthusiastic real treat',\n",
              " 'sadly gordon ramsey steak place shall sharply avoid next trip vega',\n",
              " 'always evening wonderful food delicious',\n",
              " 'best fish ever life',\n",
              " 'bathroom next door nice',\n",
              " 'buffet small food offered bland',\n",
              " 'outstanding little restaurant best food ever tasted',\n",
              " 'pretty cool would say',\n",
              " 'definitely turn doubt back unless someone else buying',\n",
              " 'server great job handling large rowdy table',\n",
              " 'find wasting food despicable food',\n",
              " 'wife lobster bisque soup lukewarm',\n",
              " 'would come back sushi craving vega',\n",
              " 'staff great ambiance great',\n",
              " 'deserves star',\n",
              " 'left stomach ache felt sick rest day',\n",
              " 'dropped ball',\n",
              " 'dining space tiny elegantly decorated comfortable',\n",
              " 'customize order way like usual eggplant green bean stir fry love',\n",
              " 'bean rice mediocre best',\n",
              " 'best taco town far',\n",
              " 'took back money got outta',\n",
              " 'interesting part town place amazing',\n",
              " 'rude inconsiderate management',\n",
              " 'staff friendly wait time served horrible one even say hi first minute',\n",
              " 'back',\n",
              " 'great dinner',\n",
              " 'service outshining definitely recommend halibut',\n",
              " 'food terrible',\n",
              " 'never ever go back told many people happened',\n",
              " 'recommend unless car break front starving',\n",
              " 'come back every time vega',\n",
              " 'place deserves one star food',\n",
              " 'disgrace',\n",
              " 'def coming back bowl next time',\n",
              " 'want healthy authentic ethic food try place',\n",
              " 'continue come lady night andddd date night highly recommend place anyone area',\n",
              " 'several time past experience always great',\n",
              " 'walked away stuffed happy first vega buffet experience',\n",
              " 'service excellent price pretty reasonable considering vega located inside crystal shopping mall aria',\n",
              " 'summarize food incredible nay transcendant nothing brings joy quite like memory pneumatic condiment dispenser',\n",
              " 'probably one people ever go ians like',\n",
              " 'kid pizza always hit lot great side dish option kiddos',\n",
              " 'service perfect family atmosphere nice see',\n",
              " 'cooked perfection service impeccable',\n",
              " 'one simply disappointment',\n",
              " 'overall disappointed quality food bouchon',\n",
              " 'accountant know getting screwed',\n",
              " 'great place eat reminds little mom pop shop san francisco bay area',\n",
              " 'today first taste buldogis gourmet hot dog tell ever thought possible',\n",
              " 'left frustrated',\n",
              " 'definitely soon',\n",
              " 'food really good got full petty fast',\n",
              " 'service fantastic',\n",
              " 'total waste time',\n",
              " 'know kind best iced tea',\n",
              " 'come hungry leave happy stuffed',\n",
              " 'service give star',\n",
              " 'assure disappointed',\n",
              " 'take little bad service food suck',\n",
              " 'gave trying eat crust teeth still sore',\n",
              " 'completely grossed',\n",
              " 'really enjoyed eating',\n",
              " 'first time going think quickly become regular',\n",
              " 'server nice even though looked little overwhelmed need stayed professional friendly end',\n",
              " 'dinner companion told everything fresh nice texture taste',\n",
              " 'ground right next table large smeared stepped tracked everywhere pile green bird poop',\n",
              " 'furthermore even find hour operation website',\n",
              " 'tried like place time think done',\n",
              " 'mistake',\n",
              " 'complaint',\n",
              " 'seriously good pizza expert connisseur topic',\n",
              " 'waiter jerk',\n",
              " 'strike want rushed',\n",
              " 'nicest restaurant owner ever come across',\n",
              " 'never come',\n",
              " 'loved biscuit',\n",
              " 'service quick friendly',\n",
              " 'ordered appetizer took minute pizza another minute',\n",
              " 'absolutley fantastic',\n",
              " 'huge awkward lb piece cow th gristle fat',\n",
              " 'definitely come back',\n",
              " 'like steiner dark feel like bar',\n",
              " 'wow spicy delicious',\n",
              " 'familiar check',\n",
              " 'take business dinner dollar elsewhere',\n",
              " 'love go back',\n",
              " 'anyway f restaurant wonderful breakfast lunch',\n",
              " 'nothing special',\n",
              " 'day week different deal delicious',\n",
              " 'mention combination pear almond bacon big winner',\n",
              " 'back',\n",
              " 'sauce tasteless',\n",
              " 'food delicious spicy enough sure ask spicier prefer way',\n",
              " 'ribeye steak cooked perfectly great mesquite flavor',\n",
              " 'think going back anytime soon',\n",
              " 'food gooodd',\n",
              " 'far sushi connoisseur definitely tell difference good food bad food certainly bad food',\n",
              " 'insulted',\n",
              " 'last time lunch bad',\n",
              " 'chicken wing contained driest chicken meat ever eaten',\n",
              " 'food good enjoyed every mouthful enjoyable relaxed venue couple small family group etc',\n",
              " 'nargile think great',\n",
              " 'best tater tot southwest',\n",
              " 'loved place',\n",
              " 'definitely worth paid',\n",
              " 'vanilla ice cream creamy smooth profiterole chou pastry fresh enough',\n",
              " 'im az time new spot',\n",
              " 'manager worst',\n",
              " 'inside really quite nice clean',\n",
              " 'food outstanding price reasonable',\n",
              " 'think running back carly anytime soon food',\n",
              " 'due fact took minute acknowledged another minute get food kept forgetting thing',\n",
              " 'love margarita',\n",
              " 'first vega buffet disappoint',\n",
              " 'good though',\n",
              " 'one note ventilation could use upgrading',\n",
              " 'great pork sandwich',\n",
              " 'waste time',\n",
              " 'total letdown would much rather go camelback flower shop cartel coffee',\n",
              " 'third cheese friend burger cold',\n",
              " 'enjoy pizza brunch',\n",
              " 'steak well trimmed also perfectly cooked',\n",
              " 'group claimed would handled u beautifully',\n",
              " 'loved',\n",
              " 'asked bill leave without eating bring either',\n",
              " 'place jewel la vega exactly hoping find nearly ten year living',\n",
              " 'seafood limited boiled shrimp crab leg crab leg definitely taste fresh',\n",
              " 'selection food best',\n",
              " 'delicious absolutely back',\n",
              " 'small family restaurant fine dining establishment',\n",
              " 'toro tartare cavier extraordinary liked thinly sliced wagyu white truffle',\n",
              " 'dont think back long time',\n",
              " 'attached gas station rarely good sign',\n",
              " 'awesome',\n",
              " 'back many time soon',\n",
              " 'menu much good stuff could decide',\n",
              " 'worse humiliated worker right front bunch horrible name calling',\n",
              " 'conclusion filling meal',\n",
              " 'daily special always hit group',\n",
              " 'tragedy struck',\n",
              " 'pancake also really good pretty large',\n",
              " 'first crawfish experience delicious',\n",
              " 'monster chicken fried steak egg time favorite',\n",
              " 'waitress sweet funny',\n",
              " 'also taste mom multi grain pumpkin pancake pecan butter amazing fluffy delicious',\n",
              " 'rather eat airline food seriously',\n",
              " 'cant say enough good thing place',\n",
              " 'ambiance incredible',\n",
              " 'waitress manager friendly',\n",
              " 'would recommend place',\n",
              " 'overall impressed noca',\n",
              " 'gyro basically lettuce',\n",
              " 'terrible service',\n",
              " 'thoroughly disappointed',\n",
              " 'much pasta love homemade hand made pasta thin pizza',\n",
              " 'give try happy',\n",
              " 'far best cheesecurds ever',\n",
              " 'reasonably priced also',\n",
              " 'everything perfect night',\n",
              " 'food good typical bar food',\n",
              " 'drive get',\n",
              " 'first glance lovely bakery cafe nice ambiance clean friendly staff',\n",
              " 'anyway think go back',\n",
              " 'point finger item menu order disappointed',\n",
              " 'oh thing beauty restaurant',\n",
              " 'gone go',\n",
              " 'greasy unhealthy meal',\n",
              " 'first time might last',\n",
              " 'burger amazing',\n",
              " 'similarly delivery man say word apology food minute late',\n",
              " 'way expensive',\n",
              " 'sure order dessert even need pack go tiramisu cannoli die',\n",
              " 'first time wait next',\n",
              " 'bartender also nice',\n",
              " 'everything good tasty',\n",
              " 'place two thumb way',\n",
              " 'best place vega breakfast check sat sun',\n",
              " 'love authentic mexican food want whole bunch interesting yet delicious meat choose need try place',\n",
              " 'terrible management',\n",
              " 'excellent new restaurant experienced frenchman',\n",
              " 'zero star would give zero star',\n",
              " 'great steak great side great wine amazing dessert',\n",
              " 'worst martini ever',\n",
              " 'steak shrimp opinion best entree gc',\n",
              " 'opportunity today sample amazing pizza',\n",
              " 'waited thirty minute seated although vacant table folk waiting',\n",
              " 'yellowtail carpaccio melt mouth fresh',\n",
              " 'try going back even empty',\n",
              " 'going eat potato found stranger hair',\n",
              " 'spicy enough perfect actually',\n",
              " 'last night second time dining happy decided go back',\n",
              " 'even hello right',\n",
              " 'dessert bit strange',\n",
              " 'boyfriend came first time recent trip vega could pleased quality food service',\n",
              " 'really recommend place go wrong donut place',\n",
              " 'nice ambiance',\n",
              " 'would recommend saving room',\n",
              " 'guess maybe went night disgraceful',\n",
              " 'however recent experience particular location good',\n",
              " 'know like restaurant something',\n",
              " 'avoid establishment',\n",
              " 'think restaurant suffers trying hard enough',\n",
              " 'tapa dish delicious',\n",
              " 'heart place',\n",
              " 'salad bland vinegrette baby green heart palm',\n",
              " 'two felt disgusting',\n",
              " 'good time',\n",
              " 'believe place great stop huge belly hankering sushi',\n",
              " 'generous portion great taste',\n",
              " 'never go back place never ever recommended place anyone',\n",
              " 'server went back forth several time even much helped',\n",
              " 'food delicious',\n",
              " 'hour seriously',\n",
              " 'consider theft',\n",
              " 'eew location need complete overhaul',\n",
              " 'recently witnessed poor quality management towards guest well',\n",
              " 'waited waited waited',\n",
              " 'also came back check u regularly excellent service',\n",
              " 'server super nice checked u many time',\n",
              " 'pizza tasted old super chewy good way',\n",
              " 'swung give try deeply disappointed',\n",
              " 'service good company better',\n",
              " 'staff also friendly efficient',\n",
              " 'service fan quick served nice folk',\n",
              " 'boy sucker dry',\n",
              " 'rated',\n",
              " 'look authentic thai food go else',\n",
              " 'steak recommended',\n",
              " 'pulled car waited another minute acknowledged',\n",
              " 'great food great service clean friendly setting',\n",
              " 'assure back',\n",
              " 'hate thing much cheap quality black olive',\n",
              " 'breakfast perpared great beautiful presentation giant slice toast lightly dusted powdered sugar',\n",
              " 'kid play area nasty',\n",
              " 'great place fo take eat',\n",
              " 'waitress friendly happy accomodate vegan veggie option',\n",
              " 'omg felt like never eaten thai food dish',\n",
              " 'extremely crumby pretty tasteless',\n",
              " 'pale color instead nice char flavor',\n",
              " 'crouton also taste homemade extra plus',\n",
              " 'got home see driest damn wing ever',\n",
              " 'regular stop trip phoenix',\n",
              " 'really enjoyed crema caf expanded even told friend best breakfast',\n",
              " 'good money',\n",
              " 'miss wish one philadelphia',\n",
              " 'got sitting fairly fast ended waiting minute place order another minute food arrived',\n",
              " 'also best cheese crisp town',\n",
              " 'good value great food great service',\n",
              " 'ask satisfying meal',\n",
              " 'food good',\n",
              " 'awesome',\n",
              " 'wanted leave',\n",
              " 'made drive way north scottsdale one bit disappointed',\n",
              " 'eating',\n",
              " 'owner really really need quit soooooo cheap let wrap freaking sandwich two paper one',\n",
              " 'checked place couple year ago impressed',\n",
              " 'chicken got definitely reheated ok wedge cold soggy',\n",
              " 'sorry getting food anytime soon',\n",
              " 'absolute must visit',\n",
              " 'cow tongue cheek taco amazing',\n",
              " 'friend like bloody mary',\n",
              " 'despite hard rate business actually rare give star',\n",
              " 'really want make experience good one',\n",
              " 'return',\n",
              " 'chicken pho tasted bland',\n",
              " 'disappointing',\n",
              " 'grilled chicken tender yellow saffron seasoning',\n",
              " 'drive thru mean want wait around half hour food somehow end going make u wait wait',\n",
              " 'pretty awesome place',\n",
              " 'ambience perfect',\n",
              " 'best luck rude non customer service focused new management',\n",
              " 'grandmother make roasted chicken better one',\n",
              " 'asked multiple time wine list time ignored went hostess got one',\n",
              " 'staff always super friendly helpful especially cool bring two small boy baby',\n",
              " 'four star food guy blue shirt great vibe still letting u eat',\n",
              " 'roast beef sandwich tasted really good',\n",
              " 'evening drastically sick',\n",
              " 'high quality chicken chicken caesar salad',\n",
              " 'ordered burger rare came done',\n",
              " 'promptly greeted seated',\n",
              " 'tried go lunch madhouse',\n",
              " 'proven dead wrong sushi bar quality great service fast food impeccable',\n",
              " 'waiting hour seated greatest mood',\n",
              " 'good joint',\n",
              " 'macarons insanely good',\n",
              " 'eating',\n",
              " 'waiter attentive friendly informative',\n",
              " 'maybe cold would somewhat edible',\n",
              " 'place lot promise fails deliver',\n",
              " 'bad experience',\n",
              " 'mistake',\n",
              " 'food average best',\n",
              " 'great food',\n",
              " 'going back anytime soon',\n",
              " 'disappointed ordered big bay plater',\n",
              " 'great place relax awesome burger beer',\n",
              " 'perfect sit family meal get together friend',\n",
              " 'much flavor poorly constructed',\n",
              " 'patio seating comfortable',\n",
              " 'fried rice dry well',\n",
              " 'hand favorite italian restaurant',\n",
              " 'scream legit book somethat also pretty rare vega',\n",
              " 'fun experience',\n",
              " 'atmosphere great lovely duo violinist playing song requested',\n",
              " 'personally love hummus pita baklava falafel baba ganoush amazing eggplant',\n",
              " 'convenient since staying mgm',\n",
              " 'owner super friendly staff courteous',\n",
              " 'great',\n",
              " 'eclectic selection',\n",
              " 'sweet potato tot good onion ring perfection close',\n",
              " 'staff attentive',\n",
              " 'chef generous time even came around twice take picture',\n",
              " 'owner used work nobu place really similar half price',\n",
              " 'google mediocre imagine smashburger pop',\n",
              " 'dont go',\n",
              " 'promise disappoint',\n",
              " 'sushi lover avoid place mean',\n",
              " 'great double cheeseburger',\n",
              " 'awesome service food',\n",
              " 'fantastic neighborhood gem',\n",
              " 'wait go back',\n",
              " 'plantain worst ever tasted',\n",
              " 'great place highly recommend',\n",
              " 'service slow attentive',\n",
              " 'gave star giving star',\n",
              " 'staff spends time talking',\n",
              " 'dessert panna cotta amazing',\n",
              " 'good food great atmosphere',\n",
              " 'damn good steak',\n",
              " 'total brunch fail',\n",
              " 'price reasonable flavor spot sauce home made slaw drenched mayo',\n",
              " 'decor nice piano music soundtrack pleasant',\n",
              " 'steak amazing rge fillet relleno best seafood plate ever',\n",
              " 'good food good service',\n",
              " 'absolutely amazing',\n",
              " 'probably back honest',\n",
              " 'definitely back',\n",
              " 'sergeant pepper beef sandwich auju sauce excellent sandwich well',\n",
              " 'hawaiian breeze mango magic pineapple delight smoothy tried far good',\n",
              " 'went lunch service slow',\n",
              " 'much say place walked expected amazing quickly disappointed',\n",
              " 'mortified',\n",
              " 'needle say never back',\n",
              " 'anyways food definitely filling price pay expect',\n",
              " 'chip came dripping grease mostly edible',\n",
              " 'really impressed strip steak',\n",
              " 'going since every meal awesome',\n",
              " 'server nice attentive serving staff',\n",
              " 'cashier friendly even brought food',\n",
              " 'work hospitality industry paradise valley refrained recommending cibo longer',\n",
              " 'atmosphere fun',\n",
              " 'would recommend others',\n",
              " 'service quick even go order like like',\n",
              " 'mean really get famous fish chip terrible',\n",
              " 'said mouth belly still quite pleased',\n",
              " 'thing',\n",
              " 'thumb',\n",
              " 'reading please go',\n",
              " 'loved grilled pizza reminded legit italian pizza',\n",
              " 'pro large seating area nice bar area great simple drink menu best brick oven pizza homemade dough',\n",
              " 'really nice atmosphere',\n",
              " 'tonight elk filet special sucked',\n",
              " 'one bite hooked',\n",
              " 'ordered old classic new dish going time sorely disappointed everything',\n",
              " 'cute quaint simple honest',\n",
              " 'chicken deliciously seasoned perfect fry outside moist chicken inside',\n",
              " 'food great always compliment chef',\n",
              " 'special thanks dylan recommendation order yummy tummy',\n",
              " 'awesome selection beer',\n",
              " 'great food awesome service',\n",
              " 'one nice thing added gratuity bill since party larger expect tip',\n",
              " 'fly apple juice fly',\n",
              " 'han nan chicken also tasty',\n",
              " 'service thought good',\n",
              " 'food barely lukewarm must sitting waiting server bring u',\n",
              " 'ryan bar definitely one edinburgh establishment revisiting',\n",
              " 'nicest chinese restaurant',\n",
              " 'overall like food service',\n",
              " 'also serve indian naan bread hummus spicy pine nut sauce world',\n",
              " 'probably never coming back recommend',\n",
              " 'friend pasta also bad barely touched',\n",
              " 'try airport experience tasty food speedy friendly service',\n",
              " 'love decor chinese calligraphy wall paper',\n",
              " 'never anything complain',\n",
              " 'restaurant clean family restaurant feel',\n",
              " 'way fried',\n",
              " 'sure long stood long enough begin feel awkwardly place',\n",
              " 'opened sandwich impressed good way',\n",
              " 'back',\n",
              " 'warm feeling service felt like guest special treat',\n",
              " 'extensive menu provides lot option breakfast',\n",
              " 'always order vegetarian menu dinner wide array option choose',\n",
              " 'watched price inflate portion get smaller management attitude grow rapidly',\n",
              " 'wonderful lil tapa ambience made feel warm fuzzy inside',\n",
              " 'got enjoy seafood salad fabulous vinegrette',\n",
              " 'wonton thin thick chewy almost melt mouth',\n",
              " 'level spicy perfect spice whelm soup',\n",
              " 'sat right time server get go fantastic',\n",
              " 'main thing enjoy crowd older crowd around mid',\n",
              " 'side town definitely spot hit',\n",
              " 'wait minute get drink longer get arepas',\n",
              " 'great place eat',\n",
              " 'jalapeno bacon soooo good',\n",
              " 'service poor thats nice',\n",
              " 'food good service good price good',\n",
              " 'place clean food oh stale',\n",
              " 'chicken dish ok beef like shoe leather',\n",
              " 'service beyond bad',\n",
              " 'happy',\n",
              " 'tasted like dirt',\n",
              " 'one place phoenix would definately go back',\n",
              " 'block amazing',\n",
              " 'close house low key non fancy affordable price good food',\n",
              " 'hot sour egg flower soup absolutely star',\n",
              " 'sashimi poor quality soggy tasteless',\n",
              " 'great time family dinner sunday night',\n",
              " 'food tasty say real traditional hunan style',\n",
              " 'bother slow service',\n",
              " 'flair bartender absolutely amazing',\n",
              " 'frozen margarita way sugary taste',\n",
              " 'good ordered twice',\n",
              " 'nutshell restaraunt smell like combination dirty fish market sewer',\n",
              " 'girlfriend veal bad',\n",
              " 'unfortunately good',\n",
              " 'pretty satifying experience',\n",
              " 'join club get awesome offer via email',\n",
              " 'perfect someone like beer ice cold case even colder',\n",
              " 'bland flavorless good way describing barely tepid meat',\n",
              " 'chain fan beat place easily',\n",
              " 'nacho must',\n",
              " 'coming back',\n",
              " 'many word say place everything pretty well',\n",
              " 'staff super nice quick even crazy crowd downtown jury lawyer court staff',\n",
              " 'great atmosphere friendly fast service',\n",
              " 'received pita huge lot meat thumb',\n",
              " 'food arrives meh',\n",
              " 'paying hot dog fry look like came kid meal wienerschnitzel idea good meal',\n",
              " 'classic maine lobster roll fantastic',\n",
              " 'brother law work mall ate day guess sick night',\n",
              " 'good going review place twice hereas tribute place tribute event held last night',\n",
              " 'chip salsa really good salsa fresh',\n",
              " 'place great',\n",
              " 'mediocre food',\n",
              " 'get inside impressed place',\n",
              " 'super pissd',\n",
              " 'service super friendly',\n",
              " 'sad little vegetable overcooked',\n",
              " 'place nice surprise',\n",
              " 'golden crispy delicious',\n",
              " 'high hope place since burger cooked charcoal grill unfortunately taste fell flat way flat',\n",
              " 'could eat bruschetta day devine',\n",
              " 'single employee came see ok even needed water refill finally served u food',\n",
              " 'lastly mozzarella stick best thing ordered',\n",
              " 'first time ever came amazing experience still tell people awesome duck',\n",
              " 'server negligent need made u feel unwelcome would suggest place',\n",
              " 'service terrible though',\n",
              " 'place overpriced consistent boba really overpriced',\n",
              " 'packed',\n",
              " 'love place',\n",
              " 'say dessert yummy',\n",
              " 'food terrible',\n",
              " 'seasonal fruit fresh white peach puree',\n",
              " 'kept getting worse worse officially done',\n",
              " 'place honestly blown',\n",
              " 'definitely would eat',\n",
              " 'waste money',\n",
              " 'love put food nice plastic container opposed cramming little paper takeout box',\n",
              " 'cr pe delicate thin moist',\n",
              " 'awful service',\n",
              " 'ever go',\n",
              " 'food quality horrible',\n",
              " 'price think place would much rather gone',\n",
              " 'service fair best',\n",
              " 'love sushi found kabuki priced hip service',\n",
              " 'favor stay away dish',\n",
              " 'poor service',\n",
              " 'one table thought food average worth wait',\n",
              " 'best service food ever maria server good friendly made day',\n",
              " 'excellent',\n",
              " 'paid bill tip felt server terrible job',\n",
              " 'lunch great experience',\n",
              " 'never bland food surprised considering article read focused much spice flavor',\n",
              " 'food way overpriced portion fucking small',\n",
              " 'recently tried caballero back every week since',\n",
              " 'buck head really expect better food',\n",
              " 'food came good pace',\n",
              " 'ate twice last visit especially enjoyed salmon salad',\n",
              " 'back',\n",
              " 'could believe dirty oyster',\n",
              " 'place deserves star',\n",
              " 'would recommend place',\n",
              " 'fact going round star awesome',\n",
              " 'disbelief dish qualified worst version food ever tasted',\n",
              " 'bad day low tolerance rude customer service people job nice polite wash dish otherwise',\n",
              " 'potato great biscuit',\n",
              " 'probably would go',\n",
              " 'flavorful perfect amount heat',\n",
              " 'price reasonable service great',\n",
              " 'wife hated meal coconut shrimp friend really enjoy meal either',\n",
              " 'fella got huevos rancheros look appealing',\n",
              " 'went happy hour great list wine',\n",
              " 'may say buffet pricey think get pay place getting quite lot',\n",
              " 'probably coming back',\n",
              " 'worst food service',\n",
              " 'place pretty good nice little vibe restaurant',\n",
              " 'talk great customer service course back',\n",
              " 'hot dish hot cold dish close room temp watched staff prepare food bare hand glove everything deep fried oil',\n",
              " 'love fry bean',\n",
              " 'always pleasure dealing',\n",
              " 'plethora salad sandwich everything tried get seal approval',\n",
              " 'place awesome want something light healthy summer',\n",
              " 'sushi strip place go',\n",
              " 'service great even manager came helped table',\n",
              " 'feel dining room college cooking course high class dining service slow best',\n",
              " 'started review two star editing give one',\n",
              " 'worst sushi ever eat besides costco',\n",
              " 'excellent restaurant highlighted great service unique menu beautiful setting',\n",
              " 'boyfriend sat bar completely delightful experience',\n",
              " 'weird vibe owner',\n",
              " 'hardly meat',\n",
              " 'better bagel grocery store',\n",
              " 'go place gyro',\n",
              " 'love owner chef one authentic japanese cool dude',\n",
              " 'burger good pizza used amazing doughy flavorless',\n",
              " 'found six inch long piece wire salsa',\n",
              " 'service terrible food mediocre',\n",
              " 'definately enjoyed',\n",
              " 'ordered albondigas soup warm tasted like tomato soup frozen meatball',\n",
              " 'three different occasion asked well done medium well three time got bloodiest piece meat plate',\n",
              " 'two bite refused eat anymore',\n",
              " 'service extremely slow',\n",
              " 'minute wait got table',\n",
              " 'seriously killer hot chai latte',\n",
              " 'allergy warning menu waitress absolutely clue meal contain peanut',\n",
              " 'boyfriend tried mediterranean chicken salad fell love',\n",
              " 'rotating beer tap also highlight place',\n",
              " 'pricing bit concern mellow mushroom',\n",
              " 'worst thai ever',\n",
              " 'stay vega must get breakfast least',\n",
              " 'want first say server great perfect service',\n",
              " 'pizza selection good',\n",
              " 'strawberry tea good',\n",
              " 'highly unprofessional rude loyal patron',\n",
              " 'overall great experience',\n",
              " 'spend money elsewhere',\n",
              " 'regular toasted bread equally satisfying occasional pat butter mmmm',\n",
              " 'buffet bellagio far anticipated',\n",
              " 'drink weak people',\n",
              " 'order correct',\n",
              " 'also feel like chip bought made house',\n",
              " 'disappointing dinner went elsewhere dessert',\n",
              " 'chip sals amazing',\n",
              " 'returning',\n",
              " 'new fav vega buffet spot',\n",
              " 'seriously cannot believe owner many unexperienced employee running around like chicken head cut',\n",
              " 'sad',\n",
              " 'felt insulted disrespected could talk judge another human like',\n",
              " 'call steakhouse properly cook steak understand',\n",
              " 'impressed concept food',\n",
              " 'thing crazy guacamole like pur ed',\n",
              " 'really nothing postinos hope experience better',\n",
              " 'got food poisoning buffet',\n",
              " 'brought fresh batch fry thinking yay something warm',\n",
              " 'hilarious yummy christmas eve dinner remember biggest fail entire trip u',\n",
              " 'needle say going back anytime soon',\n",
              " 'place disgusting',\n",
              " 'every time eat see caring teamwork professional degree',\n",
              " 'ri style calamari joke',\n",
              " 'however much garlic fondue barely edible',\n",
              " 'could barely stomach meal complain business lunch',\n",
              " 'bad lost heart finish',\n",
              " 'also took forever bring u check asked',\n",
              " 'one make scene restaurant get definitely lost love one',\n",
              " 'disappointing experience',\n",
              " 'food par denny say good',\n",
              " 'want wait mediocre food downright terrible service place',\n",
              " 'waaaaaayyyyyyyyyy rated saying',\n",
              " 'going back',\n",
              " 'place fairly clean food simply worth',\n",
              " 'place lacked style',\n",
              " 'sangria half glass wine full ridiculous',\n",
              " 'bother coming',\n",
              " 'meat pretty dry sliced brisket pulled pork',\n",
              " 'building seems pretty neat bathroom pretty trippy eat',\n",
              " 'equally awful',\n",
              " 'probably hurry go back',\n",
              " 'slow seating even reservation',\n",
              " 'good stretch imagination',\n",
              " 'cashew cream sauce bland vegetable undercooked',\n",
              " 'chipolte ranch dipping sause tasteless seemed thin watered heat',\n",
              " 'bit sweet really spicy enough lacked flavor',\n",
              " 'disappointed',\n",
              " 'place horrible way overpriced',\n",
              " 'maybe vegetarian fare twice thought average best',\n",
              " 'busy know',\n",
              " 'table outside also dirty lot time worker always friendly helpful menu',\n",
              " 'ambiance feel like buffet setting douchey indoor garden tea biscuit',\n",
              " 'con spotty service',\n",
              " 'fry hot neither burger',\n",
              " 'came back cold',\n",
              " 'food came disappointment ensued',\n",
              " 'real disappointment waiter',\n",
              " 'husband said rude even apologize bad food anything',\n",
              " 'reason eat would fill night binge drinking get carbs stomach',\n",
              " 'insult profound deuchebaggery go outside smoke break serving solidify',\n",
              " 'someone order two taco think may part customer service ask combo ala cart',\n",
              " 'quite disappointed although blame need placed door',\n",
              " 'rave review wait eat disappointment',\n",
              " 'del taco pretty nasty avoided possible',\n",
              " 'hard make decent hamburger',\n",
              " 'like',\n",
              " 'hell go back',\n",
              " 'gotten much better service pizza place next door service received restaurant',\n",
              " 'know big deal place back ya',\n",
              " 'immediately said wanted talk manager want talk guy shot fireball behind bar',\n",
              " 'ambiance much better',\n",
              " 'unfortunately set u disapppointment entree',\n",
              " 'food good',\n",
              " 'server suck wait correction server heimer sucked',\n",
              " 'happened next pretty putting',\n",
              " 'bad cause know family owned really wanted like place',\n",
              " 'overpriced getting',\n",
              " 'vomited bathroom mid lunch',\n",
              " 'kept looking time soon become minute yet still food',\n",
              " 'place eat circumstance would ever return top list',\n",
              " 'started tuna sashimi brownish color obviously fresh',\n",
              " 'food average',\n",
              " 'sure beat nacho movie would expect little bit coming restaurant',\n",
              " 'ha long bay bit flop',\n",
              " 'problem charge sandwich bigger subway sub offer better amount vegetable',\n",
              " 'shrimp unwrapped live mile brushfire literally ice cold',\n",
              " 'lacked flavor seemed undercooked dry',\n",
              " 'really impressive place closed',\n",
              " 'would avoid place staying mirage',\n",
              " 'refried bean came meal dried crusty food bland',\n",
              " 'spend money time place else',\n",
              " 'lady table next u found live green caterpillar salad',\n",
              " 'presentation food awful',\n",
              " 'tell disappointed',\n",
              " 'think food flavor texture lacking',\n",
              " 'appetite instantly gone',\n",
              " 'overall impressed would go back',\n",
              " 'whole experience underwhelming think go ninja sushi next time',\n",
              " 'wasted enough life poured salt wound drawing time took bring check']"
            ]
          },
          "metadata": {},
          "execution_count": 16
        }
      ]
    },
    {
      "cell_type": "code",
      "source": [
        "# Splitting the data into training and testing set\n",
        "from sklearn.model_selection import train_test_split\n",
        "x_train, x_test, y_train, y_test = train_test_split(x, y, random_state = 0, test_size = 0.20)"
      ],
      "metadata": {
        "id": "UVelVJ9kXaay"
      },
      "execution_count": 17,
      "outputs": []
    },
    {
      "cell_type": "code",
      "source": [
        "# Returns values of rows and columns present in x.\n",
        "x.shape"
      ],
      "metadata": {
        "colab": {
          "base_uri": "https://localhost:8080/"
        },
        "id": "i3XfN4yLXd36",
        "outputId": "bbea6eb8-5a45-4985-bb28-ec6085a952e7"
      },
      "execution_count": 18,
      "outputs": [
        {
          "output_type": "execute_result",
          "data": {
            "text/plain": [
              "(1000,)"
            ]
          },
          "metadata": {},
          "execution_count": 18
        }
      ]
    },
    {
      "cell_type": "code",
      "source": [
        "# Returns values of rows and columns present in y.\n",
        "y.shape"
      ],
      "metadata": {
        "colab": {
          "base_uri": "https://localhost:8080/"
        },
        "id": "mVu_pVRAXfoM",
        "outputId": "70a07507-d7c8-49ba-e6dd-2fb649c49283"
      },
      "execution_count": 19,
      "outputs": [
        {
          "output_type": "execute_result",
          "data": {
            "text/plain": [
              "(1000,)"
            ]
          },
          "metadata": {},
          "execution_count": 19
        }
      ]
    },
    {
      "cell_type": "code",
      "source": [
        "# Returns the values of training and testing sets.\n",
        "print(\"X Train Shape:\", x_train.shape)\n",
        "print(\"X Test Shape:\", x_test.shape)\n",
        "print(\"Y Train Shape:\", y_train.shape)\n",
        "print(\"Y Test Shape:\", y_test.shape)"
      ],
      "metadata": {
        "colab": {
          "base_uri": "https://localhost:8080/"
        },
        "id": "2WGrm-spXhhq",
        "outputId": "d0481f2a-481a-44b0-b495-0624d7b2f913"
      },
      "execution_count": 20,
      "outputs": [
        {
          "output_type": "stream",
          "name": "stdout",
          "text": [
            "X Train Shape: (800,)\n",
            "X Test Shape: (200,)\n",
            "Y Train Shape: (800,)\n",
            "Y Test Shape: (200,)\n"
          ]
        }
      ]
    },
    {
      "cell_type": "code",
      "source": [
        "# Importing Count Vectorizer\n",
        "from sklearn.feature_extraction.text import CountVectorizer"
      ],
      "metadata": {
        "id": "9RDVEHCcXi3n"
      },
      "execution_count": 21,
      "outputs": []
    },
    {
      "cell_type": "code",
      "source": [
        "# Applying count vectorizer before doing SVM.\n",
        "vect = CountVectorizer(stop_words='english', max_features=1000)\n",
        "x_train_vect = vect.fit_transform(x_train)\n",
        "x_test_vect = vect.transform(x_test)"
      ],
      "metadata": {
        "id": "MhuZ-4MWXku9"
      },
      "execution_count": 22,
      "outputs": []
    },
    {
      "cell_type": "code",
      "source": [
        "# Using Support Vector Machine Model\n",
        "from sklearn.svm import SVC"
      ],
      "metadata": {
        "id": "0ntHTerDXl6p"
      },
      "execution_count": 23,
      "outputs": []
    },
    {
      "cell_type": "code",
      "source": [
        "# Import the SVC model\n",
        "model = SVC()\n",
        "model.fit(x_train_vect, y_train)"
      ],
      "metadata": {
        "colab": {
          "base_uri": "https://localhost:8080/"
        },
        "id": "UOE_BbgFXnpe",
        "outputId": "8ce655cb-5baf-4960-9d1c-2690fef1945a"
      },
      "execution_count": 24,
      "outputs": [
        {
          "output_type": "execute_result",
          "data": {
            "text/plain": [
              "SVC()"
            ]
          },
          "metadata": {},
          "execution_count": 24
        }
      ]
    },
    {
      "cell_type": "code",
      "source": [
        "# Predicted values\n",
        "y_pred = model.predict(x_test_vect)\n",
        "y_pred"
      ],
      "metadata": {
        "colab": {
          "base_uri": "https://localhost:8080/"
        },
        "id": "z6MbJ2ugXpVI",
        "outputId": "868cba96-dd69-423f-8c8a-cf918b4cbbe4"
      },
      "execution_count": 25,
      "outputs": [
        {
          "output_type": "execute_result",
          "data": {
            "text/plain": [
              "array([0, 0, 0, 0, 0, 0, 1, 0, 0, 1, 1, 1, 0, 1, 1, 1, 0, 0, 0, 1, 0, 0,\n",
              "       1, 0, 0, 1, 0, 1, 1, 1, 0, 0, 0, 0, 1, 0, 0, 0, 0, 1, 1, 0, 0, 0,\n",
              "       0, 0, 0, 0, 0, 0, 1, 0, 1, 1, 0, 0, 0, 0, 0, 0, 0, 0, 0, 0, 0, 0,\n",
              "       1, 0, 1, 0, 1, 1, 1, 1, 0, 0, 0, 1, 0, 0, 1, 1, 1, 0, 1, 1, 0, 0,\n",
              "       1, 0, 0, 0, 0, 0, 0, 0, 1, 0, 1, 0, 0, 0, 1, 1, 1, 0, 1, 1, 0, 0,\n",
              "       0, 0, 0, 1, 0, 0, 1, 0, 1, 0, 0, 0, 1, 0, 0, 0, 0, 1, 0, 0, 0, 1,\n",
              "       0, 0, 1, 1, 1, 1, 1, 0, 0, 1, 1, 0, 0, 0, 0, 0, 0, 0, 0, 0, 1, 1,\n",
              "       0, 0, 1, 0, 1, 1, 0, 0, 1, 0, 0, 0, 0, 0, 0, 0, 0, 1, 0, 0, 0, 0,\n",
              "       0, 1, 0, 0, 1, 0, 0, 0, 0, 0, 0, 1, 0, 1, 1, 0, 0, 0, 1, 0, 1, 1,\n",
              "       0, 0])"
            ]
          },
          "metadata": {},
          "execution_count": 25
        }
      ]
    },
    {
      "cell_type": "code",
      "source": [
        "# Actual values\n",
        "y_test   "
      ],
      "metadata": {
        "colab": {
          "base_uri": "https://localhost:8080/"
        },
        "id": "svWBzcQJaRa0",
        "outputId": "bb1f97bc-2516-4274-cb5d-b2121040a4d2"
      },
      "execution_count": 26,
      "outputs": [
        {
          "output_type": "execute_result",
          "data": {
            "text/plain": [
              "array([0, 0, 0, 0, 0, 0, 1, 0, 0, 1, 1, 1, 0, 1, 1, 1, 0, 0, 0, 1, 0, 1,\n",
              "       1, 0, 0, 1, 1, 1, 1, 0, 1, 1, 1, 1, 1, 0, 0, 0, 0, 1, 1, 0, 1, 0,\n",
              "       0, 0, 0, 0, 0, 0, 1, 1, 1, 1, 0, 0, 1, 1, 0, 1, 0, 0, 0, 0, 1, 0,\n",
              "       1, 1, 1, 0, 1, 1, 1, 1, 0, 0, 1, 1, 0, 1, 0, 1, 1, 0, 1, 1, 0, 0,\n",
              "       1, 0, 0, 1, 0, 0, 0, 1, 0, 1, 1, 0, 1, 1, 1, 0, 1, 0, 1, 1, 0, 1,\n",
              "       1, 1, 0, 0, 1, 0, 1, 1, 1, 1, 1, 0, 1, 0, 0, 0, 1, 0, 0, 1, 0, 1,\n",
              "       0, 0, 1, 1, 1, 1, 1, 0, 1, 1, 1, 0, 0, 0, 0, 1, 1, 1, 1, 1, 1, 1,\n",
              "       0, 0, 1, 1, 1, 0, 0, 0, 1, 1, 0, 0, 0, 0, 0, 1, 0, 1, 1, 0, 0, 1,\n",
              "       0, 1, 0, 1, 1, 0, 0, 0, 0, 1, 0, 1, 0, 1, 1, 0, 0, 0, 1, 0, 1, 1,\n",
              "       0, 1])"
            ]
          },
          "metadata": {},
          "execution_count": 26
        }
      ]
    },
    {
      "cell_type": "code",
      "source": [
        "# Making the confusion matrix\n",
        "from sklearn.metrics import confusion_matrix\n",
        "cm = confusion_matrix(y_test, y_pred)\n",
        "print(cm)\n",
        "# [[True Positive    False Positive ],\n",
        "#  [False Negative    True Negative]]"
      ],
      "metadata": {
        "colab": {
          "base_uri": "https://localhost:8080/"
        },
        "id": "qJt8Cz9IXv8r",
        "outputId": "a3715d7a-1586-4c69-9c3e-3bb5432216e5"
      },
      "execution_count": 27,
      "outputs": [
        {
          "output_type": "stream",
          "name": "stdout",
          "text": [
            "[[90  7]\n",
            " [43 60]]\n"
          ]
        }
      ]
    },
    {
      "cell_type": "code",
      "source": [
        "# Calculating the accuracy of SVC model.\n",
        "from sklearn.metrics import accuracy_score\n",
        "accuracy_score(y_pred, y_test)"
      ],
      "metadata": {
        "colab": {
          "base_uri": "https://localhost:8080/"
        },
        "id": "dI79aVcbX0XH",
        "outputId": "2a524e4e-9109-4612-ae9d-f4df43cf483d"
      },
      "execution_count": 28,
      "outputs": [
        {
          "output_type": "execute_result",
          "data": {
            "text/plain": [
              "0.75"
            ]
          },
          "metadata": {},
          "execution_count": 28
        }
      ]
    },
    {
      "cell_type": "code",
      "source": [
        "# Pipeline model using Count Vectorizer and SVC\n",
        "from sklearn.pipeline import make_pipeline\n",
        "text_model = make_pipeline(CountVectorizer(), SVC())\n",
        "text_model.fit(x_train, y_train)"
      ],
      "metadata": {
        "colab": {
          "base_uri": "https://localhost:8080/"
        },
        "id": "8vSflXjQX2Cr",
        "outputId": "1e83c80a-c37d-45ba-cfef-4253ad3d6fe4"
      },
      "execution_count": 29,
      "outputs": [
        {
          "output_type": "execute_result",
          "data": {
            "text/plain": [
              "Pipeline(steps=[('countvectorizer', CountVectorizer()), ('svc', SVC())])"
            ]
          },
          "metadata": {},
          "execution_count": 29
        }
      ]
    },
    {
      "cell_type": "code",
      "source": [
        "y_pred = text_model.predict(x_test)\n",
        "y_pred"
      ],
      "metadata": {
        "colab": {
          "base_uri": "https://localhost:8080/"
        },
        "id": "tt_tjYmkX38q",
        "outputId": "861bf3c8-bf61-402d-f7f0-48f7fc2f1d1a"
      },
      "execution_count": 30,
      "outputs": [
        {
          "output_type": "execute_result",
          "data": {
            "text/plain": [
              "array([0, 0, 0, 0, 1, 1, 1, 0, 0, 1, 1, 1, 1, 1, 1, 1, 0, 0, 0, 1, 0, 1,\n",
              "       1, 0, 0, 1, 1, 1, 1, 0, 1, 0, 1, 0, 0, 0, 0, 1, 0, 1, 1, 0, 1, 0,\n",
              "       0, 1, 0, 1, 0, 0, 1, 1, 1, 1, 0, 0, 0, 1, 0, 1, 1, 0, 1, 1, 0, 1,\n",
              "       1, 0, 1, 0, 1, 1, 1, 0, 0, 0, 0, 1, 0, 1, 0, 1, 1, 0, 1, 1, 0, 0,\n",
              "       1, 0, 0, 1, 0, 0, 0, 1, 1, 0, 1, 1, 1, 1, 1, 0, 1, 0, 1, 1, 0, 0,\n",
              "       0, 1, 0, 1, 0, 0, 1, 1, 1, 1, 0, 0, 1, 0, 0, 0, 1, 0, 0, 0, 1, 1,\n",
              "       0, 0, 1, 1, 1, 1, 1, 0, 1, 1, 1, 0, 0, 0, 0, 0, 0, 1, 1, 0, 1, 1,\n",
              "       0, 0, 1, 0, 1, 0, 0, 0, 1, 1, 0, 0, 1, 0, 0, 0, 0, 0, 1, 0, 0, 0,\n",
              "       0, 1, 0, 0, 1, 0, 0, 1, 1, 0, 1, 1, 0, 1, 1, 0, 0, 1, 1, 0, 1, 1,\n",
              "       0, 1])"
            ]
          },
          "metadata": {},
          "execution_count": 30
        }
      ]
    },
    {
      "cell_type": "code",
      "source": [
        "y_test"
      ],
      "metadata": {
        "colab": {
          "base_uri": "https://localhost:8080/"
        },
        "id": "gFayDv9eX5am",
        "outputId": "a7a512c8-b21c-4be9-c8d9-38f47f8b4cdf"
      },
      "execution_count": 31,
      "outputs": [
        {
          "output_type": "execute_result",
          "data": {
            "text/plain": [
              "array([0, 0, 0, 0, 0, 0, 1, 0, 0, 1, 1, 1, 0, 1, 1, 1, 0, 0, 0, 1, 0, 1,\n",
              "       1, 0, 0, 1, 1, 1, 1, 0, 1, 1, 1, 1, 1, 0, 0, 0, 0, 1, 1, 0, 1, 0,\n",
              "       0, 0, 0, 0, 0, 0, 1, 1, 1, 1, 0, 0, 1, 1, 0, 1, 0, 0, 0, 0, 1, 0,\n",
              "       1, 1, 1, 0, 1, 1, 1, 1, 0, 0, 1, 1, 0, 1, 0, 1, 1, 0, 1, 1, 0, 0,\n",
              "       1, 0, 0, 1, 0, 0, 0, 1, 0, 1, 1, 0, 1, 1, 1, 0, 1, 0, 1, 1, 0, 1,\n",
              "       1, 1, 0, 0, 1, 0, 1, 1, 1, 1, 1, 0, 1, 0, 0, 0, 1, 0, 0, 1, 0, 1,\n",
              "       0, 0, 1, 1, 1, 1, 1, 0, 1, 1, 1, 0, 0, 0, 0, 1, 1, 1, 1, 1, 1, 1,\n",
              "       0, 0, 1, 1, 1, 0, 0, 0, 1, 1, 0, 0, 0, 0, 0, 1, 0, 1, 1, 0, 0, 1,\n",
              "       0, 1, 0, 1, 1, 0, 0, 0, 0, 1, 0, 1, 0, 1, 1, 0, 0, 0, 1, 0, 1, 1,\n",
              "       0, 1])"
            ]
          },
          "metadata": {},
          "execution_count": 31
        }
      ]
    },
    {
      "cell_type": "code",
      "source": [
        "# Making the confusion matrix\n",
        "from sklearn.metrics import confusion_matrix\n",
        "cm = confusion_matrix(y_test, y_pred)\n",
        "print(cm)"
      ],
      "metadata": {
        "colab": {
          "base_uri": "https://localhost:8080/"
        },
        "id": "9dtgnKjCX7KN",
        "outputId": "22c9f782-e634-43e6-9dcc-530330291632"
      },
      "execution_count": 32,
      "outputs": [
        {
          "output_type": "stream",
          "name": "stdout",
          "text": [
            "[[78 19]\n",
            " [23 80]]\n"
          ]
        }
      ]
    },
    {
      "cell_type": "code",
      "source": [
        "# Calculating the accuracy\n",
        "from sklearn.metrics import accuracy_score\n",
        "accuracy_score(y_pred, y_test)"
      ],
      "metadata": {
        "colab": {
          "base_uri": "https://localhost:8080/"
        },
        "id": "OAS_OinXX9A6",
        "outputId": "d145c82a-22b9-44af-8492-efc657a03408"
      },
      "execution_count": 33,
      "outputs": [
        {
          "output_type": "execute_result",
          "data": {
            "text/plain": [
              "0.79"
            ]
          },
          "metadata": {},
          "execution_count": 33
        }
      ]
    },
    {
      "cell_type": "code",
      "source": [
        "# Using naive bayes algorithm creating a NB model\n",
        "from sklearn.naive_bayes import MultinomialNB\n",
        "model = MultinomialNB()\n",
        "model.fit(x_train_vect, y_train)"
      ],
      "metadata": {
        "colab": {
          "base_uri": "https://localhost:8080/"
        },
        "id": "X7qJChHvX-25",
        "outputId": "1798218e-ef15-40cf-dad8-b36b42bc03c6"
      },
      "execution_count": 34,
      "outputs": [
        {
          "output_type": "execute_result",
          "data": {
            "text/plain": [
              "MultinomialNB()"
            ]
          },
          "metadata": {},
          "execution_count": 34
        }
      ]
    },
    {
      "cell_type": "code",
      "source": [
        "y_pred = model.predict(x_test_vect)\n",
        "y_pred"
      ],
      "metadata": {
        "colab": {
          "base_uri": "https://localhost:8080/"
        },
        "id": "amBzHqrNYA4K",
        "outputId": "87bff7b7-941f-417e-9b16-5e3abcfcc2e3"
      },
      "execution_count": 35,
      "outputs": [
        {
          "output_type": "execute_result",
          "data": {
            "text/plain": [
              "array([0, 0, 0, 0, 0, 1, 1, 0, 0, 1, 1, 1, 1, 1, 1, 1, 1, 1, 0, 1, 0, 0,\n",
              "       1, 1, 0, 1, 0, 1, 1, 1, 1, 1, 1, 0, 1, 0, 0, 1, 1, 1, 1, 0, 0, 0,\n",
              "       0, 0, 1, 0, 1, 1, 1, 1, 1, 1, 0, 1, 0, 1, 0, 1, 0, 0, 0, 1, 0, 0,\n",
              "       1, 0, 1, 0, 1, 1, 1, 1, 0, 1, 0, 1, 0, 1, 1, 1, 1, 0, 1, 1, 1, 0,\n",
              "       1, 1, 0, 1, 0, 0, 0, 0, 1, 0, 1, 1, 0, 1, 1, 1, 1, 1, 1, 1, 0, 0,\n",
              "       0, 1, 0, 1, 1, 0, 1, 1, 1, 1, 1, 1, 1, 1, 0, 0, 0, 1, 0, 0, 0, 1,\n",
              "       0, 0, 1, 1, 1, 1, 1, 0, 0, 1, 1, 0, 0, 0, 1, 1, 0, 0, 1, 0, 1, 1,\n",
              "       1, 0, 1, 1, 1, 1, 0, 0, 1, 0, 0, 0, 1, 0, 0, 0, 0, 1, 1, 0, 0, 1,\n",
              "       0, 1, 0, 0, 1, 0, 0, 0, 0, 0, 0, 1, 0, 1, 1, 0, 0, 0, 1, 0, 1, 1,\n",
              "       0, 1])"
            ]
          },
          "metadata": {},
          "execution_count": 35
        }
      ]
    },
    {
      "cell_type": "code",
      "source": [
        "y_test"
      ],
      "metadata": {
        "colab": {
          "base_uri": "https://localhost:8080/"
        },
        "id": "mBiHtteMYCf0",
        "outputId": "a60df048-02fb-4080-b23e-30c9ed36c7ea"
      },
      "execution_count": 36,
      "outputs": [
        {
          "output_type": "execute_result",
          "data": {
            "text/plain": [
              "array([0, 0, 0, 0, 0, 0, 1, 0, 0, 1, 1, 1, 0, 1, 1, 1, 0, 0, 0, 1, 0, 1,\n",
              "       1, 0, 0, 1, 1, 1, 1, 0, 1, 1, 1, 1, 1, 0, 0, 0, 0, 1, 1, 0, 1, 0,\n",
              "       0, 0, 0, 0, 0, 0, 1, 1, 1, 1, 0, 0, 1, 1, 0, 1, 0, 0, 0, 0, 1, 0,\n",
              "       1, 1, 1, 0, 1, 1, 1, 1, 0, 0, 1, 1, 0, 1, 0, 1, 1, 0, 1, 1, 0, 0,\n",
              "       1, 0, 0, 1, 0, 0, 0, 1, 0, 1, 1, 0, 1, 1, 1, 0, 1, 0, 1, 1, 0, 1,\n",
              "       1, 1, 0, 0, 1, 0, 1, 1, 1, 1, 1, 0, 1, 0, 0, 0, 1, 0, 0, 1, 0, 1,\n",
              "       0, 0, 1, 1, 1, 1, 1, 0, 1, 1, 1, 0, 0, 0, 0, 1, 1, 1, 1, 1, 1, 1,\n",
              "       0, 0, 1, 1, 1, 0, 0, 0, 1, 1, 0, 0, 0, 0, 0, 1, 0, 1, 1, 0, 0, 1,\n",
              "       0, 1, 0, 1, 1, 0, 0, 0, 0, 1, 0, 1, 0, 1, 1, 0, 0, 0, 1, 0, 1, 1,\n",
              "       0, 1])"
            ]
          },
          "metadata": {},
          "execution_count": 36
        }
      ]
    },
    {
      "cell_type": "code",
      "source": [
        "# Making the confusion matrix\n",
        "from sklearn.metrics import confusion_matrix\n",
        "cm = confusion_matrix(y_test, y_pred)\n",
        "print(cm)"
      ],
      "metadata": {
        "colab": {
          "base_uri": "https://localhost:8080/"
        },
        "id": "5ifea5xUYECP",
        "outputId": "57c7af13-83f3-4df9-f72b-90aeac8e5258"
      },
      "execution_count": 37,
      "outputs": [
        {
          "output_type": "stream",
          "name": "stdout",
          "text": [
            "[[68 29]\n",
            " [23 80]]\n"
          ]
        }
      ]
    },
    {
      "cell_type": "code",
      "source": [
        "# Calculating the accuracy\n",
        "from sklearn.metrics import accuracy_score\n",
        "accuracy_score(y_pred, y_test)"
      ],
      "metadata": {
        "colab": {
          "base_uri": "https://localhost:8080/"
        },
        "id": "jtFdBMHHYF6M",
        "outputId": "fe134861-c7a5-4fd5-b473-fcced2489284"
      },
      "execution_count": 38,
      "outputs": [
        {
          "output_type": "execute_result",
          "data": {
            "text/plain": [
              "0.74"
            ]
          },
          "metadata": {},
          "execution_count": 38
        }
      ]
    },
    {
      "cell_type": "code",
      "source": [
        "# Using pipeline method using Count Vectorizer and Naive Bayes\n",
        "from sklearn.pipeline import make_pipeline\n",
        "text_model = make_pipeline(CountVectorizer(),MultinomialNB())\n",
        "text_model.fit(x_train,y_train)"
      ],
      "metadata": {
        "colab": {
          "base_uri": "https://localhost:8080/"
        },
        "id": "UVzaIIdpYHB2",
        "outputId": "9f453e18-701b-4430-e4e2-b5d01aa0b2a3"
      },
      "execution_count": 39,
      "outputs": [
        {
          "output_type": "execute_result",
          "data": {
            "text/plain": [
              "Pipeline(steps=[('countvectorizer', CountVectorizer()),\n",
              "                ('multinomialnb', MultinomialNB())])"
            ]
          },
          "metadata": {},
          "execution_count": 39
        }
      ]
    },
    {
      "cell_type": "code",
      "source": [
        "y_pred = text_model.predict(x_test)\n",
        "y_pred"
      ],
      "metadata": {
        "colab": {
          "base_uri": "https://localhost:8080/"
        },
        "id": "INNqiUdCYIyF",
        "outputId": "610e3805-2da2-4a7d-a436-0616052c3739"
      },
      "execution_count": 40,
      "outputs": [
        {
          "output_type": "execute_result",
          "data": {
            "text/plain": [
              "array([0, 0, 0, 0, 0, 0, 1, 0, 0, 1, 1, 1, 0, 1, 1, 1, 0, 0, 0, 1, 0, 0,\n",
              "       1, 0, 1, 1, 0, 1, 1, 0, 1, 1, 1, 0, 1, 0, 0, 1, 0, 1, 1, 1, 0, 0,\n",
              "       0, 0, 0, 0, 1, 1, 1, 1, 1, 1, 0, 0, 1, 1, 0, 1, 1, 0, 1, 1, 0, 0,\n",
              "       1, 0, 1, 0, 1, 1, 1, 0, 0, 0, 0, 1, 0, 1, 0, 1, 1, 0, 1, 1, 1, 0,\n",
              "       1, 1, 0, 1, 0, 0, 0, 1, 1, 0, 1, 0, 0, 1, 1, 1, 0, 1, 1, 1, 0, 0,\n",
              "       0, 1, 0, 1, 1, 0, 1, 1, 1, 1, 1, 0, 1, 0, 0, 0, 1, 0, 0, 0, 0, 1,\n",
              "       0, 0, 1, 1, 1, 1, 1, 0, 0, 1, 1, 0, 0, 0, 0, 0, 1, 0, 1, 0, 1, 1,\n",
              "       0, 0, 1, 1, 1, 1, 0, 0, 1, 1, 0, 0, 1, 0, 0, 0, 0, 1, 1, 0, 0, 0,\n",
              "       0, 1, 0, 0, 1, 0, 0, 0, 0, 1, 0, 1, 0, 1, 1, 0, 0, 0, 0, 0, 1, 1,\n",
              "       0, 1])"
            ]
          },
          "metadata": {},
          "execution_count": 40
        }
      ]
    },
    {
      "cell_type": "code",
      "source": [
        "y_test"
      ],
      "metadata": {
        "colab": {
          "base_uri": "https://localhost:8080/"
        },
        "id": "ECi9F-W2YKIr",
        "outputId": "ecb73197-4963-47b1-e8cc-304bc01b39f2"
      },
      "execution_count": 41,
      "outputs": [
        {
          "output_type": "execute_result",
          "data": {
            "text/plain": [
              "array([0, 0, 0, 0, 0, 0, 1, 0, 0, 1, 1, 1, 0, 1, 1, 1, 0, 0, 0, 1, 0, 1,\n",
              "       1, 0, 0, 1, 1, 1, 1, 0, 1, 1, 1, 1, 1, 0, 0, 0, 0, 1, 1, 0, 1, 0,\n",
              "       0, 0, 0, 0, 0, 0, 1, 1, 1, 1, 0, 0, 1, 1, 0, 1, 0, 0, 0, 0, 1, 0,\n",
              "       1, 1, 1, 0, 1, 1, 1, 1, 0, 0, 1, 1, 0, 1, 0, 1, 1, 0, 1, 1, 0, 0,\n",
              "       1, 0, 0, 1, 0, 0, 0, 1, 0, 1, 1, 0, 1, 1, 1, 0, 1, 0, 1, 1, 0, 1,\n",
              "       1, 1, 0, 0, 1, 0, 1, 1, 1, 1, 1, 0, 1, 0, 0, 0, 1, 0, 0, 1, 0, 1,\n",
              "       0, 0, 1, 1, 1, 1, 1, 0, 1, 1, 1, 0, 0, 0, 0, 1, 1, 1, 1, 1, 1, 1,\n",
              "       0, 0, 1, 1, 1, 0, 0, 0, 1, 1, 0, 0, 0, 0, 0, 1, 0, 1, 1, 0, 0, 1,\n",
              "       0, 1, 0, 1, 1, 0, 0, 0, 0, 1, 0, 1, 0, 1, 1, 0, 0, 0, 1, 0, 1, 1,\n",
              "       0, 1])"
            ]
          },
          "metadata": {},
          "execution_count": 41
        }
      ]
    },
    {
      "cell_type": "code",
      "source": [
        "# Making the confusion matrix\n",
        "from sklearn.metrics import confusion_matrix\n",
        "cm = confusion_matrix(y_test, y_pred)\n",
        "print(cm)"
      ],
      "metadata": {
        "colab": {
          "base_uri": "https://localhost:8080/"
        },
        "id": "HhAj2nMgYL8F",
        "outputId": "22828bc7-e105-44bc-d6e9-e5ca0ac66bad"
      },
      "execution_count": 42,
      "outputs": [
        {
          "output_type": "stream",
          "name": "stdout",
          "text": [
            "[[81 16]\n",
            " [22 81]]\n"
          ]
        }
      ]
    },
    {
      "cell_type": "code",
      "source": [
        "# Calculating the accuracy\n",
        "from sklearn.metrics import accuracy_score\n",
        "accuracy_score(y_pred, y_test)"
      ],
      "metadata": {
        "colab": {
          "base_uri": "https://localhost:8080/"
        },
        "id": "SIfpJD28YODH",
        "outputId": "4ffcd2ae-80ae-44cc-94cd-ffb79cee9473"
      },
      "execution_count": 43,
      "outputs": [
        {
          "output_type": "execute_result",
          "data": {
            "text/plain": [
              "0.81"
            ]
          },
          "metadata": {},
          "execution_count": 43
        }
      ]
    },
    {
      "cell_type": "code",
      "source": [
        "# Importing the joblib model\n",
        "import joblib\n",
        "joblib.dump(text_model,'Rest-Rev')  # storing the best accurate data in the file named Rest-Rev "
      ],
      "metadata": {
        "colab": {
          "base_uri": "https://localhost:8080/"
        },
        "id": "icC1Q-QeYPbD",
        "outputId": "587f7fd5-7bb7-47de-cdc4-0fc89e314865"
      },
      "execution_count": 44,
      "outputs": [
        {
          "output_type": "execute_result",
          "data": {
            "text/plain": [
              "['Rest-Rev']"
            ]
          },
          "metadata": {},
          "execution_count": 44
        }
      ]
    },
    {
      "cell_type": "code",
      "source": [
        "# Reconstructing a python object from a file persisted with joblib.dump\n",
        "import joblib\n",
        "text_model = joblib.load('Rest-Rev')"
      ],
      "metadata": {
        "id": "6MxyFzABYXbx"
      },
      "execution_count": 45,
      "outputs": []
    },
    {
      "cell_type": "code",
      "source": [
        "# Predicting the output of a new review which is positive in this case.\n",
        "text_model.predict(['The food is amazing!!'])"
      ],
      "metadata": {
        "colab": {
          "base_uri": "https://localhost:8080/"
        },
        "id": "5IXGPXt1YZbC",
        "outputId": "2926dd96-8af3-4b94-b4db-09e067b01b80"
      },
      "execution_count": 46,
      "outputs": [
        {
          "output_type": "execute_result",
          "data": {
            "text/plain": [
              "array([1])"
            ]
          },
          "metadata": {},
          "execution_count": 46
        }
      ]
    },
    {
      "cell_type": "code",
      "source": [
        "# Predicting the output of a new review which is negative in this case.\n",
        "text_model.predict(['The cooking is really bad and I have never eaten much worse food than this...'])"
      ],
      "metadata": {
        "colab": {
          "base_uri": "https://localhost:8080/"
        },
        "id": "T4cvNybPYbgn",
        "outputId": "a84670bb-adae-421c-d28d-4541d7766697"
      },
      "execution_count": 47,
      "outputs": [
        {
          "output_type": "execute_result",
          "data": {
            "text/plain": [
              "array([0])"
            ]
          },
          "metadata": {},
          "execution_count": 47
        }
      ]
    },
    {
      "cell_type": "code",
      "source": [
        "# Installing streamlit.\n",
        "!pip install -q streamlit"
      ],
      "metadata": {
        "colab": {
          "base_uri": "https://localhost:8080/"
        },
        "id": "sGEwNriLYgAR",
        "outputId": "cf4940ba-06b3-4995-ce2d-3b0f8b1de878"
      },
      "execution_count": 48,
      "outputs": [
        {
          "output_type": "stream",
          "name": "stdout",
          "text": [
            "\u001b[K     |████████████████████████████████| 9.7 MB 4.6 MB/s \n",
            "\u001b[K     |████████████████████████████████| 4.3 MB 34.7 MB/s \n",
            "\u001b[K     |████████████████████████████████| 164 kB 56.8 MB/s \n",
            "\u001b[K     |████████████████████████████████| 76 kB 4.2 MB/s \n",
            "\u001b[K     |████████████████████████████████| 180 kB 62.4 MB/s \n",
            "\u001b[K     |████████████████████████████████| 111 kB 65.5 MB/s \n",
            "\u001b[K     |████████████████████████████████| 63 kB 1.3 MB/s \n",
            "\u001b[K     |████████████████████████████████| 128 kB 31.7 MB/s \n",
            "\u001b[K     |████████████████████████████████| 792 kB 20.9 MB/s \n",
            "\u001b[K     |████████████████████████████████| 380 kB 57.2 MB/s \n",
            "\u001b[?25h  Building wheel for blinker (setup.py) ... \u001b[?25l\u001b[?25hdone\n",
            "\u001b[31mERROR: pip's dependency resolver does not currently take into account all the packages that are installed. This behaviour is the source of the following dependency conflicts.\n",
            "jupyter-console 5.2.0 requires prompt-toolkit<2.0.0,>=1.0.0, but you have prompt-toolkit 3.0.27 which is incompatible.\n",
            "google-colab 1.0.0 requires ipykernel~=4.10, but you have ipykernel 6.9.0 which is incompatible.\n",
            "google-colab 1.0.0 requires ipython~=5.5.0, but you have ipython 7.31.1 which is incompatible.\u001b[0m\n"
          ]
        }
      ]
    },
    {
      "cell_type": "code",
      "source": [
        "%%writefile app.py\n",
        "# Importing streamlit and joblib\n",
        "import streamlit as st\n",
        "import joblib\n",
        "# Creating a streamlit webapp using the joblib model\n",
        "st.title('Restaurant Reviews')             # title for the web app\n",
        "text_model = joblib.load('Rest-Rev')       # loading restaurant reviews joblib model\n",
        "ip = st.text_input('Enter your review:')   # user input\n",
        "op = text_model.predict([ip])              # use the input text entered by the user and predict if the review is positive or negative using the joblib model\n",
        "if st.button('Predict'):                   # creating a button which displays the output once we click on it\n",
        "  st.title(op[0])                          # print the output"
      ],
      "metadata": {
        "colab": {
          "base_uri": "https://localhost:8080/"
        },
        "id": "24A4Vz-kYiMp",
        "outputId": "a747da43-1d9b-4f14-e7da-61d6b4f23190"
      },
      "execution_count": 49,
      "outputs": [
        {
          "output_type": "stream",
          "name": "stdout",
          "text": [
            "Writing app.py\n"
          ]
        }
      ]
    },
    {
      "cell_type": "code",
      "source": [
        "# Running app.py\n",
        "!streamlit run app.py & npx localtunnel --port 8501"
      ],
      "metadata": {
        "colab": {
          "base_uri": "https://localhost:8080/"
        },
        "id": "R_I0nVkOYrBD",
        "outputId": "c621b28e-0842-45f2-bd90-ac7fbca44d70"
      },
      "execution_count": null,
      "outputs": [
        {
          "output_type": "stream",
          "name": "stdout",
          "text": [
            "2022-02-08 17:26:39.861 INFO    numexpr.utils: NumExpr defaulting to 2 threads.\n",
            "\u001b[K\u001b[?25hnpx: installed 22 in 6.938s\n",
            "\u001b[0m\n",
            "\u001b[34m\u001b[1m  You can now view your Streamlit app in your browser.\u001b[0m\n",
            "\u001b[0m\n",
            "\u001b[34m  Network URL: \u001b[0m\u001b[1mhttp://172.28.0.2:8501\u001b[0m\n",
            "\u001b[34m  External URL: \u001b[0m\u001b[1mhttp://35.201.184.192:8501\u001b[0m\n",
            "\u001b[0m\n",
            "your url is: https://pretty-bobcat-82.loca.lt\n"
          ]
        }
      ]
    },
    {
      "cell_type": "code",
      "source": [
        ""
      ],
      "metadata": {
        "id": "4POIGpfZYt0-"
      },
      "execution_count": null,
      "outputs": []
    }
  ]
}